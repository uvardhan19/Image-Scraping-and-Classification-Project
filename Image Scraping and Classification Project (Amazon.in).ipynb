{
 "cells": [
  {
   "cell_type": "markdown",
   "metadata": {},
   "source": [
    "# Image Scraping and Classification Project\n",
    "\n",
    "\n",
    "### Problem Statement: \n",
    "Images are one of the major sources of data in the field of data science and AI. This field is making appropriate use of information that can be gathered through images by examining its features and details. We are trying to give you an exposure of how an end to end project is developed in this field. \n",
    "\n",
    "The idea behind this project is to build a deep learning-based Image Classification model on images that will be scraped from e-commerce portal. This is done to make the model more and more robust. \n",
    "This task is divided into two phases: Data Collection and Mode Building. \n",
    "Data Collection Phase: In this section, you need to scrape images from e-commerce portal, Amazon.in. The clothing categories used for scraping will be:\n",
    "\n",
    "Sarees (women)\n",
    "\n",
    "Trousers (men)\n",
    "\n",
    "Jeans (men)\n",
    "\n",
    "\n",
    "\n",
    "You need to scrape images of these 3 categories and build your data from it. That data will be provided as an input to your deep learning problem. You need to scrape minimum 200 images of each categories. There is no maximum limit to the data collection.  You are free to apply image augmentation techniques to increase the size of your data but make sure the quality of data is not compromised. \n",
    "\n",
    "\n",
    "Remember, in case of deep learning models, the data needs to be big for building a good performing model. More the data, better the results.  \n",
    "Model Building Phase: After the data collection and preparation is done, you need to build an image classification model that will classify between these 3 categories mentioned above. You can play around with optimizers and learning rates for improving your model’s performance.  "
   ]
  },
  {
   "cell_type": "code",
   "execution_count": 55,
   "metadata": {},
   "outputs": [],
   "source": [
    "from selenium import webdriver\n",
    "import os\n",
    "from bs4 import BeautifulSoup\n",
    "import pandas as pd\n",
    "import csv\n",
    "import selenium.webdriver\n",
    "from bs4 import BeautifulSoup\n",
    "from selenium.webdriver.support.ui import WebDriverWait\n",
    "from selenium.webdriver.common.by import By\n",
    "from selenium.webdriver.support import expected_conditions as EC"
   ]
  },
  {
   "cell_type": "code",
   "execution_count": 56,
   "metadata": {},
   "outputs": [],
   "source": [
    "driver= webdriver.Chrome(\"chromedriver\")"
   ]
  },
  {
   "cell_type": "code",
   "execution_count": 57,
   "metadata": {},
   "outputs": [],
   "source": [
    "my_pages1=driver.get(\"https://www.amazon.in/s?bbn=1968076031&rh=n%3A1968076031%2Cp_n_feature_nineteen_browse-bin%3A11301357031&dc&qid=1609908247&rnid=11301356031&ref=nav_signin\")\n"
   ]
  },
  {
   "cell_type": "markdown",
   "metadata": {},
   "source": [
    "### Directory name to store Jeans images"
   ]
  },
  {
   "cell_type": "code",
   "execution_count": 58,
   "metadata": {},
   "outputs": [],
   "source": [
    "def make_directory(dirname):\n",
    "    current_path= os.getcwd()\n",
    "    path=os.path.join(current_path,dirname)\n",
    "    if not os.path.exists(path):\n",
    "        os.makedirs(path)"
   ]
  },
  {
   "cell_type": "code",
   "execution_count": 59,
   "metadata": {},
   "outputs": [],
   "source": [
    "make_directory(\"jeans_men\")"
   ]
  },
  {
   "cell_type": "markdown",
   "metadata": {},
   "source": [
    "### Scraping URLs of Image"
   ]
  },
  {
   "cell_type": "code",
   "execution_count": 61,
   "metadata": {},
   "outputs": [],
   "source": [
    "images=driver.find_elements_by_xpath(\"//img[@class='s-image']\")"
   ]
  },
  {
   "cell_type": "code",
   "execution_count": 62,
   "metadata": {},
   "outputs": [
    {
     "name": "stdout",
     "output_type": "stream",
     "text": [
      "60\n"
     ]
    }
   ],
   "source": [
    "print(len(images))"
   ]
  },
  {
   "cell_type": "code",
   "execution_count": 63,
   "metadata": {},
   "outputs": [
    {
     "data": {
      "text/plain": [
       "<selenium.webdriver.remote.webelement.WebElement (session=\"b99e90271607c86034eb52771db6dc1a\", element=\"ebc034c6-c580-43b2-bbb1-f89382d858cc\")>"
      ]
     },
     "execution_count": 63,
     "metadata": {},
     "output_type": "execute_result"
    }
   ],
   "source": [
    "images[0]"
   ]
  },
  {
   "cell_type": "code",
   "execution_count": 64,
   "metadata": {},
   "outputs": [
    {
     "name": "stdout",
     "output_type": "stream",
     "text": [
      "https://m.media-amazon.com/images/I/71E1-wCD7jL._AC_UL320_.jpg\n",
      "https://m.media-amazon.com/images/I/81AB1QNtl1L._AC_UL320_.jpg\n",
      "https://m.media-amazon.com/images/I/91PNVWkGkcL._AC_UL320_.jpg\n",
      "https://m.media-amazon.com/images/I/71X+wqooTFL._AC_UL320_.jpg\n",
      "https://m.media-amazon.com/images/I/51PAjY776nL._AC_UL320_.jpg\n",
      "https://m.media-amazon.com/images/I/81ZVm7gJ8PL._AC_UL320_.jpg\n",
      "https://m.media-amazon.com/images/I/818v2hyeiFL._AC_UL320_.jpg\n",
      "https://m.media-amazon.com/images/I/81TYscw9JOL._AC_UL320_.jpg\n",
      "https://m.media-amazon.com/images/I/81D+KVOvp2L._AC_UL320_.jpg\n",
      "https://m.media-amazon.com/images/I/81au4FfzaFL._AC_UL320_.jpg\n",
      "https://m.media-amazon.com/images/I/81v5d2OO-EL._AC_UL320_.jpg\n",
      "https://m.media-amazon.com/images/I/81wAqvZ4HWL._AC_UL320_.jpg\n",
      "https://m.media-amazon.com/images/I/61ZGXTSfA3L._AC_UL320_.jpg\n",
      "https://m.media-amazon.com/images/I/61ZGXTSfA3L._AC_UL320_.jpg\n",
      "https://m.media-amazon.com/images/I/71XhoCAoznL._AC_UL320_.jpg\n",
      "https://m.media-amazon.com/images/I/81ggLuJFQNL._AC_UL320_.jpg\n",
      "https://m.media-amazon.com/images/I/817+lobyUxL._AC_UL320_.jpg\n",
      "https://m.media-amazon.com/images/I/81ZfDha1c5L._AC_UL320_.jpg\n",
      "https://m.media-amazon.com/images/I/71O9et28uaL._AC_UL320_.jpg\n",
      "https://m.media-amazon.com/images/I/713Hsryga4L._AC_UL320_.jpg\n",
      "https://m.media-amazon.com/images/I/81eI5vaKfhL._AC_UL320_.jpg\n",
      "https://m.media-amazon.com/images/I/81XrwcKrN1L._AC_UL320_.jpg\n",
      "https://m.media-amazon.com/images/I/71vN1l2shkL._AC_UL320_.jpg\n",
      "https://m.media-amazon.com/images/I/81LLqdfObkL._AC_UL320_.jpg\n",
      "https://m.media-amazon.com/images/I/81PPmFokY7L._AC_UL320_.jpg\n",
      "https://m.media-amazon.com/images/I/813FdolTLFL._AC_UL320_.jpg\n",
      "https://m.media-amazon.com/images/I/81yts63FtIL._AC_UL320_.jpg\n",
      "https://m.media-amazon.com/images/I/71duOyZOOWL._AC_UL320_.jpg\n",
      "https://m.media-amazon.com/images/I/71O4z2IKsLL._AC_UL320_.jpg\n",
      "https://m.media-amazon.com/images/I/81N5e+lZl7L._AC_UL320_.jpg\n",
      "https://m.media-amazon.com/images/I/61C4Cd6iUQL._AC_UL320_.jpg\n",
      "https://m.media-amazon.com/images/I/81XrwcKrN1L._AC_UL320_.jpg\n",
      "https://m.media-amazon.com/images/I/81GktRDyaAL._AC_UL320_.jpg\n",
      "https://m.media-amazon.com/images/I/81gjMsPxIuL._AC_UL320_.jpg\n",
      "https://m.media-amazon.com/images/I/81V9Pk4rGOL._AC_UL320_.jpg\n",
      "https://m.media-amazon.com/images/I/912o9vQKe6L._AC_UL320_.jpg\n",
      "https://m.media-amazon.com/images/I/81jdRmk4pgL._AC_UL320_.jpg\n",
      "https://m.media-amazon.com/images/I/71I+AL2sPQL._AC_UL320_.jpg\n",
      "https://m.media-amazon.com/images/I/61aGmtzhdhL._AC_UL320_.jpg\n",
      "https://m.media-amazon.com/images/I/917qCzSu7TL._AC_UL320_.jpg\n",
      "https://m.media-amazon.com/images/I/81qgaCS1MKL._AC_UL320_.jpg\n",
      "https://m.media-amazon.com/images/I/81uPceyXCOL._AC_UL320_.jpg\n",
      "https://m.media-amazon.com/images/I/71YASqqpEEL._AC_UL320_.jpg\n",
      "https://m.media-amazon.com/images/I/81U2YOxCtLL._AC_UL320_.jpg\n",
      "https://m.media-amazon.com/images/I/81Z9fx6M3cL._AC_UL320_.jpg\n",
      "https://m.media-amazon.com/images/I/81WSgglrLBL._AC_UL320_.jpg\n",
      "https://m.media-amazon.com/images/I/818ZwzKVZcL._AC_UL320_.jpg\n",
      "https://m.media-amazon.com/images/I/81eacOuwECL._AC_UL320_.jpg\n",
      "https://m.media-amazon.com/images/I/91rFfkC-JcL._AC_UL320_.jpg\n",
      "https://m.media-amazon.com/images/I/71rXi12cbmL._AC_UL320_.jpg\n",
      "https://m.media-amazon.com/images/I/81bpqSFc5uL._AC_UL320_.jpg\n",
      "https://m.media-amazon.com/images/I/81KVewxjrNL._AC_UL320_.jpg\n",
      "https://m.media-amazon.com/images/I/91lFbU4aw6L._AC_UL320_.jpg\n",
      "https://m.media-amazon.com/images/I/71pgiVthnrL._AC_UL320_.jpg\n",
      "https://m.media-amazon.com/images/I/817qmgbVlvL._AC_UL320_.jpg\n",
      "https://m.media-amazon.com/images/I/81Q7jW-OhDL._AC_UL320_.jpg\n",
      "https://m.media-amazon.com/images/I/719AXbWjlxL._AC_UL320_.jpg\n",
      "https://m.media-amazon.com/images/I/61JQsYiVGuL._AC_UL320_.jpg\n",
      "https://m.media-amazon.com/images/I/81rdTCV8tIL._AC_UL320_.jpg\n",
      "https://m.media-amazon.com/images/I/71eemZiTuVL._AC_UL320_.jpg\n"
     ]
    }
   ],
   "source": [
    "urls= []\n",
    "for image in images:\n",
    "    source= image.get_attribute('src')\n",
    "    urls.append(source)\n",
    "    print(source)"
   ]
  },
  {
   "cell_type": "code",
   "execution_count": 65,
   "metadata": {},
   "outputs": [
    {
     "data": {
      "text/plain": [
       "60"
      ]
     },
     "execution_count": 65,
     "metadata": {},
     "output_type": "execute_result"
    }
   ],
   "source": [
    "len(urls)"
   ]
  },
  {
   "cell_type": "markdown",
   "metadata": {},
   "source": [
    "### Using urls to download the images"
   ]
  },
  {
   "cell_type": "code",
   "execution_count": 67,
   "metadata": {},
   "outputs": [],
   "source": [
    "import shutil\n",
    "import requests"
   ]
  },
  {
   "cell_type": "code",
   "execution_count": 71,
   "metadata": {},
   "outputs": [
    {
     "name": "stdout",
     "output_type": "stream",
     "text": [
      "Downloading 1 of 60 images from page 1\n",
      "Downloading 2 of 60 images from page 1\n",
      "Downloading 3 of 60 images from page 1\n",
      "Downloading 4 of 60 images from page 1\n",
      "Downloading 5 of 60 images from page 1\n",
      "Downloading 6 of 60 images from page 1\n",
      "Downloading 7 of 60 images from page 1\n",
      "Downloading 8 of 60 images from page 1\n",
      "Downloading 9 of 60 images from page 1\n",
      "Downloading 10 of 60 images from page 1\n",
      "Downloading 11 of 60 images from page 1\n",
      "Downloading 12 of 60 images from page 1\n",
      "Downloading 13 of 60 images from page 1\n",
      "Downloading 14 of 60 images from page 1\n",
      "Downloading 15 of 60 images from page 1\n",
      "Downloading 16 of 60 images from page 1\n",
      "Downloading 17 of 60 images from page 1\n",
      "Downloading 18 of 60 images from page 1\n",
      "Downloading 19 of 60 images from page 1\n",
      "Downloading 20 of 60 images from page 1\n",
      "Downloading 21 of 60 images from page 1\n",
      "Downloading 22 of 60 images from page 1\n",
      "Downloading 23 of 60 images from page 1\n",
      "Downloading 24 of 60 images from page 1\n",
      "Downloading 25 of 60 images from page 1\n",
      "Downloading 26 of 60 images from page 1\n",
      "Downloading 27 of 60 images from page 1\n",
      "Downloading 28 of 60 images from page 1\n",
      "Downloading 29 of 60 images from page 1\n",
      "Downloading 30 of 60 images from page 1\n",
      "Downloading 31 of 60 images from page 1\n",
      "Downloading 32 of 60 images from page 1\n",
      "Downloading 33 of 60 images from page 1\n",
      "Downloading 34 of 60 images from page 1\n",
      "Downloading 35 of 60 images from page 1\n",
      "Downloading 36 of 60 images from page 1\n",
      "Downloading 37 of 60 images from page 1\n",
      "Downloading 38 of 60 images from page 1\n",
      "Downloading 39 of 60 images from page 1\n",
      "Downloading 40 of 60 images from page 1\n",
      "Downloading 41 of 60 images from page 1\n",
      "Downloading 42 of 60 images from page 1\n",
      "Downloading 43 of 60 images from page 1\n",
      "Downloading 44 of 60 images from page 1\n",
      "Downloading 45 of 60 images from page 1\n",
      "Downloading 46 of 60 images from page 1\n",
      "Downloading 47 of 60 images from page 1\n",
      "Downloading 48 of 60 images from page 1\n",
      "Downloading 49 of 60 images from page 1\n",
      "Downloading 50 of 60 images from page 1\n",
      "Downloading 51 of 60 images from page 1\n",
      "Downloading 52 of 60 images from page 1\n",
      "Downloading 53 of 60 images from page 1\n",
      "Downloading 54 of 60 images from page 1\n",
      "Downloading 55 of 60 images from page 1\n",
      "Downloading 56 of 60 images from page 1\n",
      "Downloading 57 of 60 images from page 1\n",
      "Downloading 58 of 60 images from page 1\n",
      "Downloading 59 of 60 images from page 1\n",
      "Downloading 60 of 60 images from page 1\n"
     ]
    }
   ],
   "source": [
    "page=1\n",
    "for index, link in enumerate(urls):\n",
    "    print(\"Downloading {0} of {1} images from page 1\".format(index+1,len(urls)))\n",
    "    response=requests.get(link)\n",
    "    with open('jeans_men/img_{0}{1}.jpeg'.format(index,page),\"wb\")as file:\n",
    "        file.write(response.content)"
   ]
  },
  {
   "cell_type": "code",
   "execution_count": 72,
   "metadata": {},
   "outputs": [],
   "source": [
    "next_page=driver.find_element_by_xpath(\"//li[@class='a-last']//a\").click()"
   ]
  },
  {
   "cell_type": "code",
   "execution_count": 73,
   "metadata": {},
   "outputs": [
    {
     "name": "stdout",
     "output_type": "stream",
     "text": [
      "60\n"
     ]
    }
   ],
   "source": [
    "images=driver.find_elements_by_xpath(\"//img[@class='s-image']\")\n",
    "print(len(images))"
   ]
  },
  {
   "cell_type": "code",
   "execution_count": 74,
   "metadata": {},
   "outputs": [
    {
     "name": "stdout",
     "output_type": "stream",
     "text": [
      "https://m.media-amazon.com/images/I/81AB1QNtl1L._AC_UL320_.jpg\n",
      "https://m.media-amazon.com/images/I/71X+wqooTFL._AC_UL320_.jpg\n",
      "https://m.media-amazon.com/images/I/81fdKLt5vfL._AC_UL320_.jpg\n",
      "https://m.media-amazon.com/images/I/61C4Cd6iUQL._AC_UL320_.jpg\n",
      "https://m.media-amazon.com/images/I/71mWUoQdFqL._AC_UL320_.jpg\n",
      "https://m.media-amazon.com/images/I/81dJiUoXzUL._AC_UL320_.jpg\n",
      "https://m.media-amazon.com/images/I/81GkqFNEKhL._AC_UL320_.jpg\n",
      "https://m.media-amazon.com/images/I/81OLp3fdlyL._AC_UL320_.jpg\n",
      "https://m.media-amazon.com/images/I/81jQb7KuMkL._AC_UL320_.jpg\n",
      "https://m.media-amazon.com/images/I/712DTxe3-0L._AC_UL320_.jpg\n",
      "https://m.media-amazon.com/images/I/71lqCIXYFNL._AC_UL320_.jpg\n",
      "https://m.media-amazon.com/images/I/81G4si+3gaL._AC_UL320_.jpg\n",
      "https://m.media-amazon.com/images/I/81EGkLRifbL._AC_UL320_.jpg\n",
      "https://m.media-amazon.com/images/I/41ipyFTyb-L._AC_UL320_.jpg\n",
      "https://m.media-amazon.com/images/I/81Z3KPLAiPL._AC_UL320_.jpg\n",
      "https://m.media-amazon.com/images/I/71Hc6flOyyL._AC_UL320_.jpg\n",
      "https://m.media-amazon.com/images/I/71X9lAzymgL._AC_UL320_.jpg\n",
      "https://m.media-amazon.com/images/I/81FDxTHlAUL._AC_UL320_.jpg\n",
      "https://m.media-amazon.com/images/I/81K7gmUKQlL._AC_UL320_.jpg\n",
      "https://m.media-amazon.com/images/I/81tFXevKUxL._AC_UL320_.jpg\n",
      "https://m.media-amazon.com/images/I/81q9rnhglmL._AC_UL320_.jpg\n",
      "https://m.media-amazon.com/images/I/71wdCI5n4VL._AC_UL320_.jpg\n",
      "https://m.media-amazon.com/images/I/81AKZIzAZpL._AC_UL320_.jpg\n",
      "https://m.media-amazon.com/images/I/81nuOCZkXjL._AC_UL320_.jpg\n",
      "https://m.media-amazon.com/images/I/81ALI2ioFYL._AC_UL320_.jpg\n",
      "https://m.media-amazon.com/images/I/61HBtXKvYOL._AC_UL320_.jpg\n",
      "https://m.media-amazon.com/images/I/813jrqgXQeL._AC_UL320_.jpg\n",
      "https://m.media-amazon.com/images/I/81ikkmd119L._AC_UL320_.jpg\n",
      "https://m.media-amazon.com/images/I/71O4z2IKsLL._AC_UL320_.jpg\n",
      "https://m.media-amazon.com/images/I/61JQsYiVGuL._AC_UL320_.jpg\n",
      "https://m.media-amazon.com/images/I/714S2Jdjo9L._AC_UL320_.jpg\n",
      "https://m.media-amazon.com/images/I/81XrwcKrN1L._AC_UL320_.jpg\n",
      "https://m.media-amazon.com/images/I/81QOFG46pKL._AC_UL320_.jpg\n",
      "https://m.media-amazon.com/images/I/812gmugrx8L._AC_UL320_.jpg\n",
      "https://m.media-amazon.com/images/I/81wikvFAEXL._AC_UL320_.jpg\n",
      "https://m.media-amazon.com/images/I/81IwD017ORL._AC_UL320_.jpg\n",
      "https://m.media-amazon.com/images/I/81w3RVdPFjL._AC_UL320_.jpg\n",
      "https://m.media-amazon.com/images/I/51HWoYV73tL._AC_UL320_.jpg\n",
      "https://m.media-amazon.com/images/I/81FNBLoSgjL._AC_UL320_.jpg\n",
      "https://m.media-amazon.com/images/I/815mFdgfrVL._AC_UL320_.jpg\n",
      "https://m.media-amazon.com/images/I/81tK9MJ07rL._AC_UL320_.jpg\n",
      "https://m.media-amazon.com/images/I/71kVNXR5YvL._AC_UL320_.jpg\n",
      "https://m.media-amazon.com/images/I/81kqKjutQwL._AC_UL320_.jpg\n",
      "https://m.media-amazon.com/images/I/81jesRDkOSL._AC_UL320_.jpg\n",
      "https://m.media-amazon.com/images/I/81TylGARCsL._AC_UL320_.jpg\n",
      "https://m.media-amazon.com/images/I/81Vt5SNn96L._AC_UL320_.jpg\n",
      "https://m.media-amazon.com/images/I/81VCyGN4aaL._AC_UL320_.jpg\n",
      "https://m.media-amazon.com/images/I/31kkHjDp4QL._AC_UL320_.jpg\n",
      "https://m.media-amazon.com/images/I/81AyNDPh7uL._AC_UL320_.jpg\n",
      "https://m.media-amazon.com/images/I/81mtmJNSqKL._AC_UL320_.jpg\n",
      "https://m.media-amazon.com/images/I/71O4z2IKsLL._AC_UL320_.jpg\n",
      "https://m.media-amazon.com/images/I/81qdWo4lbTL._AC_UL320_.jpg\n",
      "https://m.media-amazon.com/images/I/81LoJ3Q29tL._AC_UL320_.jpg\n",
      "https://m.media-amazon.com/images/I/71Fk03EzZPL._AC_UL320_.jpg\n",
      "https://m.media-amazon.com/images/I/81YKMCyiLzL._AC_UL320_.jpg\n",
      "https://m.media-amazon.com/images/I/81w+ZFmCETL._AC_UL320_.jpg\n",
      "https://m.media-amazon.com/images/I/61ipn+HKsIL._AC_UL320_.jpg\n",
      "https://m.media-amazon.com/images/I/81ZfDha1c5L._AC_UL320_.jpg\n",
      "https://m.media-amazon.com/images/I/71XhoCAoznL._AC_UL320_.jpg\n",
      "https://m.media-amazon.com/images/I/81bRHrlezpL._AC_UL320_.jpg\n"
     ]
    }
   ],
   "source": [
    "urls= []\n",
    "for image in images:\n",
    "    source= image.get_attribute('src')\n",
    "    urls.append(source)\n",
    "    print(source)"
   ]
  },
  {
   "cell_type": "code",
   "execution_count": 75,
   "metadata": {},
   "outputs": [
    {
     "data": {
      "text/plain": [
       "60"
      ]
     },
     "execution_count": 75,
     "metadata": {},
     "output_type": "execute_result"
    }
   ],
   "source": [
    "len(urls)"
   ]
  },
  {
   "cell_type": "code",
   "execution_count": 76,
   "metadata": {},
   "outputs": [
    {
     "name": "stdout",
     "output_type": "stream",
     "text": [
      "Downloading 1 of 60 images from page 1\n",
      "Downloading 2 of 60 images from page 1\n",
      "Downloading 3 of 60 images from page 1\n",
      "Downloading 4 of 60 images from page 1\n",
      "Downloading 5 of 60 images from page 1\n",
      "Downloading 6 of 60 images from page 1\n",
      "Downloading 7 of 60 images from page 1\n",
      "Downloading 8 of 60 images from page 1\n",
      "Downloading 9 of 60 images from page 1\n",
      "Downloading 10 of 60 images from page 1\n",
      "Downloading 11 of 60 images from page 1\n",
      "Downloading 12 of 60 images from page 1\n",
      "Downloading 13 of 60 images from page 1\n",
      "Downloading 14 of 60 images from page 1\n",
      "Downloading 15 of 60 images from page 1\n",
      "Downloading 16 of 60 images from page 1\n",
      "Downloading 17 of 60 images from page 1\n",
      "Downloading 18 of 60 images from page 1\n",
      "Downloading 19 of 60 images from page 1\n",
      "Downloading 20 of 60 images from page 1\n",
      "Downloading 21 of 60 images from page 1\n",
      "Downloading 22 of 60 images from page 1\n",
      "Downloading 23 of 60 images from page 1\n",
      "Downloading 24 of 60 images from page 1\n",
      "Downloading 25 of 60 images from page 1\n",
      "Downloading 26 of 60 images from page 1\n",
      "Downloading 27 of 60 images from page 1\n",
      "Downloading 28 of 60 images from page 1\n",
      "Downloading 29 of 60 images from page 1\n",
      "Downloading 30 of 60 images from page 1\n",
      "Downloading 31 of 60 images from page 1\n",
      "Downloading 32 of 60 images from page 1\n",
      "Downloading 33 of 60 images from page 1\n",
      "Downloading 34 of 60 images from page 1\n",
      "Downloading 35 of 60 images from page 1\n",
      "Downloading 36 of 60 images from page 1\n",
      "Downloading 37 of 60 images from page 1\n",
      "Downloading 38 of 60 images from page 1\n",
      "Downloading 39 of 60 images from page 1\n",
      "Downloading 40 of 60 images from page 1\n",
      "Downloading 41 of 60 images from page 1\n",
      "Downloading 42 of 60 images from page 1\n",
      "Downloading 43 of 60 images from page 1\n",
      "Downloading 44 of 60 images from page 1\n",
      "Downloading 45 of 60 images from page 1\n",
      "Downloading 46 of 60 images from page 1\n",
      "Downloading 47 of 60 images from page 1\n",
      "Downloading 48 of 60 images from page 1\n",
      "Downloading 49 of 60 images from page 1\n",
      "Downloading 50 of 60 images from page 1\n",
      "Downloading 51 of 60 images from page 1\n",
      "Downloading 52 of 60 images from page 1\n",
      "Downloading 53 of 60 images from page 1\n",
      "Downloading 54 of 60 images from page 1\n",
      "Downloading 55 of 60 images from page 1\n",
      "Downloading 56 of 60 images from page 1\n",
      "Downloading 57 of 60 images from page 1\n",
      "Downloading 58 of 60 images from page 1\n",
      "Downloading 59 of 60 images from page 1\n",
      "Downloading 60 of 60 images from page 1\n"
     ]
    }
   ],
   "source": [
    "page=2\n",
    "for index, link in enumerate(urls):\n",
    "    print(\"Downloading {0} of {1} images from page 2\".format(index+1,len(urls)))\n",
    "    response=requests.get(link)\n",
    "    with open('jeans_men/img_{0}{1}.jpeg'.format(index,page),\"wb\")as file:\n",
    "        file.write(response.content)"
   ]
  },
  {
   "cell_type": "code",
   "execution_count": 77,
   "metadata": {},
   "outputs": [],
   "source": [
    "next_page=driver.find_element_by_xpath(\"//li[@class='a-last']//a\").click()"
   ]
  },
  {
   "cell_type": "code",
   "execution_count": 78,
   "metadata": {},
   "outputs": [
    {
     "name": "stdout",
     "output_type": "stream",
     "text": [
      "60\n"
     ]
    }
   ],
   "source": [
    "images=driver.find_elements_by_xpath(\"//img[@class='s-image']\")\n",
    "print(len(images))"
   ]
  },
  {
   "cell_type": "code",
   "execution_count": 79,
   "metadata": {},
   "outputs": [
    {
     "name": "stdout",
     "output_type": "stream",
     "text": [
      "https://m.media-amazon.com/images/I/81AB1QNtl1L._AC_UL320_.jpg\n",
      "https://m.media-amazon.com/images/I/71X+wqooTFL._AC_UL320_.jpg\n",
      "https://m.media-amazon.com/images/I/81fdKLt5vfL._AC_UL320_.jpg\n",
      "https://m.media-amazon.com/images/I/61C4Cd6iUQL._AC_UL320_.jpg\n",
      "https://m.media-amazon.com/images/I/81mG2mJmRvL._AC_UL320_.jpg\n",
      "https://m.media-amazon.com/images/I/71LwmdK7wOL._AC_UL320_.jpg\n",
      "https://m.media-amazon.com/images/I/81kkMsei2kL._AC_UL320_.jpg\n",
      "https://m.media-amazon.com/images/I/81rcwd8YYNL._AC_UL320_.jpg\n",
      "https://m.media-amazon.com/images/I/51JjYBDfqJL._AC_UL320_.jpg\n",
      "https://m.media-amazon.com/images/I/81I-er3sJuL._AC_UL320_.jpg\n",
      "https://m.media-amazon.com/images/I/81eX01v34CL._AC_UL320_.jpg\n",
      "https://m.media-amazon.com/images/I/91+tVyTjomL._AC_UL320_.jpg\n",
      "https://m.media-amazon.com/images/I/81WI1iN8zJL._AC_UL320_.jpg\n",
      "https://m.media-amazon.com/images/I/81mMIkG8sFL._AC_UL320_.jpg\n",
      "https://m.media-amazon.com/images/I/61yrSFlZkdL._AC_UL320_.jpg\n",
      "https://m.media-amazon.com/images/I/912cuxEaa7L._AC_UL320_.jpg\n",
      "https://m.media-amazon.com/images/I/81wj2IPN0JL._AC_UL320_.jpg\n",
      "https://m.media-amazon.com/images/I/81wRWp0WyVL._AC_UL320_.jpg\n",
      "https://m.media-amazon.com/images/I/91e10WouDlL._AC_UL320_.jpg\n",
      "https://m.media-amazon.com/images/I/81epZLtdk7L._AC_UL320_.jpg\n",
      "https://m.media-amazon.com/images/I/71Z4dZo+n9L._AC_UL320_.jpg\n",
      "https://m.media-amazon.com/images/I/81iWc9um37L._AC_UL320_.jpg\n",
      "https://m.media-amazon.com/images/I/81OY-B7D8NL._AC_UL320_.jpg\n",
      "https://m.media-amazon.com/images/I/813l5knz9yL._AC_UL320_.jpg\n",
      "https://m.media-amazon.com/images/I/71IkPnwuqfL._AC_UL320_.jpg\n",
      "https://m.media-amazon.com/images/I/81JDkTqphKL._AC_UL320_.jpg\n",
      "https://m.media-amazon.com/images/I/81oHoC0DVSL._AC_UL320_.jpg\n",
      "https://m.media-amazon.com/images/I/71M8d34VxhL._AC_UL320_.jpg\n",
      "https://m.media-amazon.com/images/I/71O4z2IKsLL._AC_UL320_.jpg\n",
      "https://m.media-amazon.com/images/I/61JQsYiVGuL._AC_UL320_.jpg\n",
      "https://m.media-amazon.com/images/I/714S2Jdjo9L._AC_UL320_.jpg\n",
      "https://m.media-amazon.com/images/I/81XrwcKrN1L._AC_UL320_.jpg\n",
      "https://m.media-amazon.com/images/I/81MYlEFcDEL._AC_UL320_.jpg\n",
      "https://m.media-amazon.com/images/I/81kHA50Z48L._AC_UL320_.jpg\n",
      "https://m.media-amazon.com/images/I/71lDZDds+VL._AC_UL320_.jpg\n",
      "https://m.media-amazon.com/images/I/81qAYkrDAfL._AC_UL320_.jpg\n",
      "https://m.media-amazon.com/images/I/815v22oryCL._AC_UL320_.jpg\n",
      "https://m.media-amazon.com/images/I/81iWc9um37L._AC_UL320_.jpg\n",
      "https://m.media-amazon.com/images/I/81Z3KPLAiPL._AC_UL320_.jpg\n",
      "https://m.media-amazon.com/images/I/81BW1qnDZGL._AC_UL320_.jpg\n",
      "https://m.media-amazon.com/images/I/81eLAfC3NFL._AC_UL320_.jpg\n",
      "https://m.media-amazon.com/images/I/81eX01v34CL._AC_UL320_.jpg\n",
      "https://m.media-amazon.com/images/I/81QcbuXUuXL._AC_UL320_.jpg\n",
      "https://m.media-amazon.com/images/I/81rD0Tg5c3L._AC_UL320_.jpg\n",
      "https://m.media-amazon.com/images/I/818dtelRESL._AC_UL320_.jpg\n",
      "https://m.media-amazon.com/images/I/81cYIZ8rPlL._AC_UL320_.jpg\n",
      "https://m.media-amazon.com/images/I/81rZsGT5ZJL._AC_UL320_.jpg\n",
      "https://m.media-amazon.com/images/I/81tqR3NF4zL._AC_UL320_.jpg\n",
      "https://m.media-amazon.com/images/I/7120rE4Lq+L._AC_UL320_.jpg\n",
      "https://m.media-amazon.com/images/I/81nL4B-K0WL._AC_UL320_.jpg\n",
      "https://m.media-amazon.com/images/I/71oJRhIjOAL._AC_UL320_.jpg\n",
      "https://m.media-amazon.com/images/I/71wdCI5n4VL._AC_UL320_.jpg\n",
      "https://m.media-amazon.com/images/I/81-JPbHsyML._AC_UL320_.jpg\n",
      "https://m.media-amazon.com/images/I/81vphWs6W1L._AC_UL320_.jpg\n",
      "https://m.media-amazon.com/images/I/817ew2dAg6L._AC_UL320_.jpg\n",
      "https://m.media-amazon.com/images/I/815BT-Fqd1L._AC_UL320_.jpg\n",
      "https://m.media-amazon.com/images/I/81ZfDha1c5L._AC_UL320_.jpg\n",
      "https://m.media-amazon.com/images/I/71XhoCAoznL._AC_UL320_.jpg\n",
      "https://m.media-amazon.com/images/I/71nhQH4rR3L._AC_UL320_.jpg\n",
      "https://m.media-amazon.com/images/I/61RHiC8bwxL._AC_UL320_.jpg\n"
     ]
    }
   ],
   "source": [
    "urls= []\n",
    "for image in images:\n",
    "    source= image.get_attribute('src')\n",
    "    urls.append(source)\n",
    "    print(source)"
   ]
  },
  {
   "cell_type": "code",
   "execution_count": 80,
   "metadata": {},
   "outputs": [
    {
     "data": {
      "text/plain": [
       "60"
      ]
     },
     "execution_count": 80,
     "metadata": {},
     "output_type": "execute_result"
    }
   ],
   "source": [
    "len(urls)"
   ]
  },
  {
   "cell_type": "code",
   "execution_count": 81,
   "metadata": {},
   "outputs": [
    {
     "name": "stdout",
     "output_type": "stream",
     "text": [
      "Downloading 1 of 60 images from page 3\n",
      "Downloading 2 of 60 images from page 3\n",
      "Downloading 3 of 60 images from page 3\n",
      "Downloading 4 of 60 images from page 3\n",
      "Downloading 5 of 60 images from page 3\n",
      "Downloading 6 of 60 images from page 3\n",
      "Downloading 7 of 60 images from page 3\n",
      "Downloading 8 of 60 images from page 3\n",
      "Downloading 9 of 60 images from page 3\n",
      "Downloading 10 of 60 images from page 3\n",
      "Downloading 11 of 60 images from page 3\n",
      "Downloading 12 of 60 images from page 3\n",
      "Downloading 13 of 60 images from page 3\n",
      "Downloading 14 of 60 images from page 3\n",
      "Downloading 15 of 60 images from page 3\n",
      "Downloading 16 of 60 images from page 3\n",
      "Downloading 17 of 60 images from page 3\n",
      "Downloading 18 of 60 images from page 3\n",
      "Downloading 19 of 60 images from page 3\n",
      "Downloading 20 of 60 images from page 3\n",
      "Downloading 21 of 60 images from page 3\n",
      "Downloading 22 of 60 images from page 3\n",
      "Downloading 23 of 60 images from page 3\n",
      "Downloading 24 of 60 images from page 3\n",
      "Downloading 25 of 60 images from page 3\n",
      "Downloading 26 of 60 images from page 3\n",
      "Downloading 27 of 60 images from page 3\n",
      "Downloading 28 of 60 images from page 3\n",
      "Downloading 29 of 60 images from page 3\n",
      "Downloading 30 of 60 images from page 3\n",
      "Downloading 31 of 60 images from page 3\n",
      "Downloading 32 of 60 images from page 3\n",
      "Downloading 33 of 60 images from page 3\n",
      "Downloading 34 of 60 images from page 3\n",
      "Downloading 35 of 60 images from page 3\n",
      "Downloading 36 of 60 images from page 3\n",
      "Downloading 37 of 60 images from page 3\n",
      "Downloading 38 of 60 images from page 3\n",
      "Downloading 39 of 60 images from page 3\n",
      "Downloading 40 of 60 images from page 3\n",
      "Downloading 41 of 60 images from page 3\n",
      "Downloading 42 of 60 images from page 3\n",
      "Downloading 43 of 60 images from page 3\n",
      "Downloading 44 of 60 images from page 3\n",
      "Downloading 45 of 60 images from page 3\n",
      "Downloading 46 of 60 images from page 3\n",
      "Downloading 47 of 60 images from page 3\n",
      "Downloading 48 of 60 images from page 3\n",
      "Downloading 49 of 60 images from page 3\n",
      "Downloading 50 of 60 images from page 3\n",
      "Downloading 51 of 60 images from page 3\n",
      "Downloading 52 of 60 images from page 3\n",
      "Downloading 53 of 60 images from page 3\n",
      "Downloading 54 of 60 images from page 3\n",
      "Downloading 55 of 60 images from page 3\n",
      "Downloading 56 of 60 images from page 3\n",
      "Downloading 57 of 60 images from page 3\n",
      "Downloading 58 of 60 images from page 3\n",
      "Downloading 59 of 60 images from page 3\n",
      "Downloading 60 of 60 images from page 3\n"
     ]
    }
   ],
   "source": [
    "page=3\n",
    "for index, link in enumerate(urls):\n",
    "    print(\"Downloading {0} of {1} images from page 3\".format(index+1,len(urls)))\n",
    "    response=requests.get(link)\n",
    "    with open('jeans_men/img_{0}{1}.jpeg'.format(index,page),\"wb\")as file:\n",
    "        file.write(response.content)"
   ]
  },
  {
   "cell_type": "code",
   "execution_count": 82,
   "metadata": {},
   "outputs": [],
   "source": [
    "next_page=driver.find_element_by_xpath(\"//li[@class='a-last']//a\").click()"
   ]
  },
  {
   "cell_type": "code",
   "execution_count": 83,
   "metadata": {},
   "outputs": [
    {
     "name": "stdout",
     "output_type": "stream",
     "text": [
      "60\n"
     ]
    }
   ],
   "source": [
    "images=driver.find_elements_by_xpath(\"//img[@class='s-image']\")\n",
    "print(len(images))"
   ]
  },
  {
   "cell_type": "code",
   "execution_count": 84,
   "metadata": {},
   "outputs": [
    {
     "name": "stdout",
     "output_type": "stream",
     "text": [
      "https://m.media-amazon.com/images/I/81AB1QNtl1L._AC_UL320_.jpg\n",
      "https://m.media-amazon.com/images/I/71X+wqooTFL._AC_UL320_.jpg\n",
      "https://m.media-amazon.com/images/I/81fdKLt5vfL._AC_UL320_.jpg\n",
      "https://m.media-amazon.com/images/I/61C4Cd6iUQL._AC_UL320_.jpg\n",
      "https://m.media-amazon.com/images/I/71uzIrue97L._AC_UL320_.jpg\n",
      "https://m.media-amazon.com/images/I/81D2WA+FOzL._AC_UL320_.jpg\n",
      "https://m.media-amazon.com/images/I/81WwiEorAmL._AC_UL320_.jpg\n",
      "https://m.media-amazon.com/images/I/81IoiqgSM2L._AC_UL320_.jpg\n",
      "https://m.media-amazon.com/images/I/812KTl4iZhL._AC_UL320_.jpg\n",
      "https://m.media-amazon.com/images/I/81za3CaaRiL._AC_UL320_.jpg\n",
      "https://m.media-amazon.com/images/I/81dtaLqz4rL._AC_UL320_.jpg\n",
      "https://m.media-amazon.com/images/I/91RsvF-7GcL._AC_UL320_.jpg\n",
      "https://m.media-amazon.com/images/I/81wbeCHb7oL._AC_UL320_.jpg\n",
      "https://m.media-amazon.com/images/I/81ikkmd119L._AC_UL320_.jpg\n",
      "https://m.media-amazon.com/images/I/81wFZhW9nyL._AC_UL320_.jpg\n",
      "https://m.media-amazon.com/images/I/81eacOuwECL._AC_UL320_.jpg\n",
      "https://m.media-amazon.com/images/I/814xulZHGPL._AC_UL320_.jpg\n",
      "https://m.media-amazon.com/images/I/81MLDfd2gRL._AC_UL320_.jpg\n",
      "https://m.media-amazon.com/images/I/710m9+aSDUL._AC_UL320_.jpg\n",
      "https://m.media-amazon.com/images/I/81RGyzNpbDL._AC_UL320_.jpg\n",
      "https://m.media-amazon.com/images/I/81FLgEVPrwL._AC_UL320_.jpg\n",
      "https://m.media-amazon.com/images/I/81IsmaHD8XL._AC_UL320_.jpg\n",
      "https://m.media-amazon.com/images/I/81fuogmixWL._AC_UL320_.jpg\n",
      "https://m.media-amazon.com/images/I/81QScJQXDbL._AC_UL320_.jpg\n",
      "https://m.media-amazon.com/images/I/91D09yPOo7L._AC_UL320_.jpg\n",
      "https://m.media-amazon.com/images/I/71VBownm9ZL._AC_UL320_.jpg\n",
      "https://m.media-amazon.com/images/I/81MK6QnHJWL._AC_UL320_.jpg\n",
      "https://m.media-amazon.com/images/I/817PrvTT7uL._AC_UL320_.jpg\n",
      "https://m.media-amazon.com/images/I/71O4z2IKsLL._AC_UL320_.jpg\n",
      "https://m.media-amazon.com/images/I/61JQsYiVGuL._AC_UL320_.jpg\n",
      "https://m.media-amazon.com/images/I/714S2Jdjo9L._AC_UL320_.jpg\n",
      "https://m.media-amazon.com/images/I/81XrwcKrN1L._AC_UL320_.jpg\n",
      "https://m.media-amazon.com/images/I/91BO5MvIxoL._AC_UL320_.jpg\n",
      "https://m.media-amazon.com/images/I/71hmGf6WBiL._AC_UL320_.jpg\n",
      "https://m.media-amazon.com/images/I/71LU7gW+LpL._AC_UL320_.jpg\n",
      "https://m.media-amazon.com/images/I/81aAZ+ofFLL._AC_UL320_.jpg\n",
      "https://m.media-amazon.com/images/I/81Zc2zx5DpL._AC_UL320_.jpg\n",
      "https://m.media-amazon.com/images/I/81dEOZ0PEVL._AC_UL320_.jpg\n",
      "https://m.media-amazon.com/images/I/91xq+CQzawL._AC_UL320_.jpg\n",
      "https://m.media-amazon.com/images/I/81Z2BLAL5EL._AC_UL320_.jpg\n",
      "https://m.media-amazon.com/images/I/81YMK25L5CL._AC_UL320_.jpg\n",
      "https://m.media-amazon.com/images/I/81z-Gsi1bOL._AC_UL320_.jpg\n",
      "https://m.media-amazon.com/images/I/51hBPwqXJ-L._AC_UL320_.jpg\n",
      "https://m.media-amazon.com/images/I/91-iXD7H0jL._AC_UL320_.jpg\n",
      "https://m.media-amazon.com/images/I/81L0Q-hRpaL._AC_UL320_.jpg\n",
      "https://m.media-amazon.com/images/I/81UvgqU5DsL._AC_UL320_.jpg\n",
      "https://m.media-amazon.com/images/I/71ff171MHlL._AC_UL320_.jpg\n",
      "https://m.media-amazon.com/images/I/81cKD8g2y2L._AC_UL320_.jpg\n",
      "https://m.media-amazon.com/images/I/91rJoNQn9RL._AC_UL320_.jpg\n",
      "https://m.media-amazon.com/images/I/81-f9havuOL._AC_UL320_.jpg\n",
      "https://m.media-amazon.com/images/I/71TPfz4adjL._AC_UL320_.jpg\n",
      "https://m.media-amazon.com/images/I/81JNqy6nEQL._AC_UL320_.jpg\n",
      "https://m.media-amazon.com/images/I/81gTA5q+KsL._AC_UL320_.jpg\n",
      "https://m.media-amazon.com/images/I/81gnJ1kUbFL._AC_UL320_.jpg\n",
      "https://m.media-amazon.com/images/I/81PX6Dbax6L._AC_UL320_.jpg\n",
      "https://m.media-amazon.com/images/I/71DoPvAGdjL._AC_UL320_.jpg\n",
      "https://m.media-amazon.com/images/I/61ipn+HKsIL._AC_UL320_.jpg\n",
      "https://m.media-amazon.com/images/I/81ZfDha1c5L._AC_UL320_.jpg\n",
      "https://m.media-amazon.com/images/I/71XhoCAoznL._AC_UL320_.jpg\n",
      "https://m.media-amazon.com/images/I/71nhQH4rR3L._AC_UL320_.jpg\n"
     ]
    }
   ],
   "source": [
    "urls= []\n",
    "for image in images:\n",
    "    source= image.get_attribute('src')\n",
    "    urls.append(source)\n",
    "    print(source)"
   ]
  },
  {
   "cell_type": "code",
   "execution_count": 85,
   "metadata": {},
   "outputs": [
    {
     "data": {
      "text/plain": [
       "60"
      ]
     },
     "execution_count": 85,
     "metadata": {},
     "output_type": "execute_result"
    }
   ],
   "source": [
    "len(urls)"
   ]
  },
  {
   "cell_type": "code",
   "execution_count": 86,
   "metadata": {},
   "outputs": [
    {
     "name": "stdout",
     "output_type": "stream",
     "text": [
      "Downloading 1 of 60 images from page 4\n",
      "Downloading 2 of 60 images from page 4\n",
      "Downloading 3 of 60 images from page 4\n",
      "Downloading 4 of 60 images from page 4\n",
      "Downloading 5 of 60 images from page 4\n",
      "Downloading 6 of 60 images from page 4\n",
      "Downloading 7 of 60 images from page 4\n",
      "Downloading 8 of 60 images from page 4\n",
      "Downloading 9 of 60 images from page 4\n",
      "Downloading 10 of 60 images from page 4\n",
      "Downloading 11 of 60 images from page 4\n",
      "Downloading 12 of 60 images from page 4\n",
      "Downloading 13 of 60 images from page 4\n",
      "Downloading 14 of 60 images from page 4\n",
      "Downloading 15 of 60 images from page 4\n",
      "Downloading 16 of 60 images from page 4\n",
      "Downloading 17 of 60 images from page 4\n",
      "Downloading 18 of 60 images from page 4\n",
      "Downloading 19 of 60 images from page 4\n",
      "Downloading 20 of 60 images from page 4\n",
      "Downloading 21 of 60 images from page 4\n",
      "Downloading 22 of 60 images from page 4\n",
      "Downloading 23 of 60 images from page 4\n",
      "Downloading 24 of 60 images from page 4\n",
      "Downloading 25 of 60 images from page 4\n",
      "Downloading 26 of 60 images from page 4\n",
      "Downloading 27 of 60 images from page 4\n",
      "Downloading 28 of 60 images from page 4\n",
      "Downloading 29 of 60 images from page 4\n",
      "Downloading 30 of 60 images from page 4\n",
      "Downloading 31 of 60 images from page 4\n",
      "Downloading 32 of 60 images from page 4\n",
      "Downloading 33 of 60 images from page 4\n",
      "Downloading 34 of 60 images from page 4\n",
      "Downloading 35 of 60 images from page 4\n",
      "Downloading 36 of 60 images from page 4\n",
      "Downloading 37 of 60 images from page 4\n",
      "Downloading 38 of 60 images from page 4\n",
      "Downloading 39 of 60 images from page 4\n",
      "Downloading 40 of 60 images from page 4\n",
      "Downloading 41 of 60 images from page 4\n",
      "Downloading 42 of 60 images from page 4\n",
      "Downloading 43 of 60 images from page 4\n",
      "Downloading 44 of 60 images from page 4\n",
      "Downloading 45 of 60 images from page 4\n",
      "Downloading 46 of 60 images from page 4\n",
      "Downloading 47 of 60 images from page 4\n",
      "Downloading 48 of 60 images from page 4\n",
      "Downloading 49 of 60 images from page 4\n",
      "Downloading 50 of 60 images from page 4\n",
      "Downloading 51 of 60 images from page 4\n",
      "Downloading 52 of 60 images from page 4\n",
      "Downloading 53 of 60 images from page 4\n",
      "Downloading 54 of 60 images from page 4\n",
      "Downloading 55 of 60 images from page 4\n",
      "Downloading 56 of 60 images from page 4\n",
      "Downloading 57 of 60 images from page 4\n",
      "Downloading 58 of 60 images from page 4\n",
      "Downloading 59 of 60 images from page 4\n",
      "Downloading 60 of 60 images from page 4\n"
     ]
    }
   ],
   "source": [
    "page=4\n",
    "for index, link in enumerate(urls):\n",
    "    print(\"Downloading {0} of {1} images from page 4\".format(index+1,len(urls)))\n",
    "    response=requests.get(link)\n",
    "    with open('jeans_men/img_{0}{1}.jpeg'.format(index,page),\"wb\")as file:\n",
    "        file.write(response.content)"
   ]
  },
  {
   "cell_type": "markdown",
   "metadata": {},
   "source": [
    "### Trousers_Men"
   ]
  },
  {
   "cell_type": "code",
   "execution_count": 87,
   "metadata": {},
   "outputs": [],
   "source": [
    "my_pages2=driver.get(\"https://www.amazon.in/s?bbn=1968125031&rh=n%3A1968125031%2Cp_n_feature_nineteen_browse-bin%3A11301357031&dc&qid=1609912724&rnid=11301356031&ref=lp_1968125031_nr_p_n_feature_nineteen_browse-bin_0\")\n"
   ]
  },
  {
   "cell_type": "code",
   "execution_count": 88,
   "metadata": {},
   "outputs": [],
   "source": [
    "def make_directory(dirname):\n",
    "    current_path= os.getcwd()\n",
    "    path=os.path.join(current_path,dirname)\n",
    "    if not os.path.exists(path):\n",
    "        os.makedirs(path)"
   ]
  },
  {
   "cell_type": "code",
   "execution_count": 89,
   "metadata": {},
   "outputs": [],
   "source": [
    "make_directory(\"trouser_men\")"
   ]
  },
  {
   "cell_type": "code",
   "execution_count": 90,
   "metadata": {},
   "outputs": [],
   "source": [
    "images=driver.find_elements_by_xpath(\"//img[@class='s-image']\")"
   ]
  },
  {
   "cell_type": "code",
   "execution_count": 91,
   "metadata": {},
   "outputs": [
    {
     "name": "stdout",
     "output_type": "stream",
     "text": [
      "60\n"
     ]
    }
   ],
   "source": [
    "print(len(images))"
   ]
  },
  {
   "cell_type": "code",
   "execution_count": 92,
   "metadata": {},
   "outputs": [
    {
     "name": "stdout",
     "output_type": "stream",
     "text": [
      "https://m.media-amazon.com/images/I/718S+pk0GZL._AC_UL320_.jpg\n",
      "https://m.media-amazon.com/images/I/61P4P7GicYL._AC_UL320_.jpg\n",
      "https://m.media-amazon.com/images/I/61xm3OpMyeL._AC_UL320_.jpg\n",
      "https://m.media-amazon.com/images/I/81Y+F+O-J8L._AC_UL320_.jpg\n",
      "https://m.media-amazon.com/images/I/81Lg1x1O29L._AC_UL320_.jpg\n",
      "https://m.media-amazon.com/images/I/81aKPu-Gl-L._AC_UL320_.jpg\n",
      "https://m.media-amazon.com/images/I/81d37fLAwUL._AC_UL320_.jpg\n",
      "https://m.media-amazon.com/images/I/81-9O33VgBL._AC_UL320_.jpg\n",
      "https://m.media-amazon.com/images/I/81RQWN2nENL._AC_UL320_.jpg\n",
      "https://m.media-amazon.com/images/I/71o4Wrj45oL._AC_UL320_.jpg\n",
      "https://m.media-amazon.com/images/I/71ESlnVyI2L._AC_UL320_.jpg\n",
      "https://m.media-amazon.com/images/I/71ij9BXtILL._AC_UL320_.jpg\n",
      "https://m.media-amazon.com/images/I/81vOn7CyUWL._AC_UL320_.jpg\n",
      "https://m.media-amazon.com/images/I/81e9hGPqolL._AC_UL320_.jpg\n",
      "https://m.media-amazon.com/images/I/71pgtmd8FpL._AC_UL320_.jpg\n",
      "https://m.media-amazon.com/images/I/71zLO45349L._AC_UL320_.jpg\n",
      "https://m.media-amazon.com/images/I/712DgzsqUSL._AC_UL320_.jpg\n",
      "https://m.media-amazon.com/images/I/614R38jQjIL._AC_UL320_.jpg\n",
      "https://m.media-amazon.com/images/I/718AoRx9hgL._AC_UL320_.jpg\n",
      "https://m.media-amazon.com/images/I/919ONwO7HnL._AC_UL320_.jpg\n",
      "https://m.media-amazon.com/images/I/71tNxiDoFlL._AC_UL320_.jpg\n",
      "https://m.media-amazon.com/images/I/61jQCh4M0uL._AC_UL320_.jpg\n",
      "https://m.media-amazon.com/images/I/710fA4BBqpL._AC_UL320_.jpg\n",
      "https://m.media-amazon.com/images/I/71IBErTkAgL._AC_UL320_.jpg\n",
      "https://m.media-amazon.com/images/I/81UwKKEVb1L._AC_UL320_.jpg\n",
      "https://m.media-amazon.com/images/I/61DDTK7BN-L._AC_UL320_.jpg\n",
      "https://m.media-amazon.com/images/I/71qzQWoqDvL._AC_UL320_.jpg\n",
      "https://m.media-amazon.com/images/I/81AtPWxSAyL._AC_UL320_.jpg\n",
      "https://m.media-amazon.com/images/I/51PAvYvziBL._AC_UL320_.jpg\n",
      "https://m.media-amazon.com/images/I/71N2Fy81BjL._AC_UL320_.jpg\n",
      "https://m.media-amazon.com/images/I/717qYkABf8L._AC_UL320_.jpg\n",
      "https://m.media-amazon.com/images/I/71KPEjSMblL._AC_UL320_.jpg\n",
      "https://m.media-amazon.com/images/I/610obmvmQfL._AC_UL320_.jpg\n",
      "https://m.media-amazon.com/images/I/911kLt8dvbL._AC_UL320_.jpg\n",
      "https://m.media-amazon.com/images/I/81cgAFX29oL._AC_UL320_.jpg\n",
      "https://m.media-amazon.com/images/I/71u47o-yKnL._AC_UL320_.jpg\n",
      "https://m.media-amazon.com/images/I/81lJwMsvB3L._AC_UL320_.jpg\n",
      "https://m.media-amazon.com/images/I/71tHnPbUjVL._AC_UL320_.jpg\n",
      "https://m.media-amazon.com/images/I/71vxfK2yhcL._AC_UL320_.jpg\n",
      "https://m.media-amazon.com/images/I/81zoWq6v9DL._AC_UL320_.jpg\n",
      "https://m.media-amazon.com/images/I/71N5IxTDbpL._AC_UL320_.jpg\n",
      "https://m.media-amazon.com/images/I/71FZpjrkc3L._AC_UL320_.jpg\n",
      "https://m.media-amazon.com/images/I/71haKlhpIgL._AC_UL320_.jpg\n",
      "https://m.media-amazon.com/images/I/61fPJ1Qqb3L._AC_UL320_.jpg\n",
      "https://m.media-amazon.com/images/I/61f195vtBKL._AC_UL320_.jpg\n",
      "https://m.media-amazon.com/images/I/71vdKuDdR7L._AC_UL320_.jpg\n",
      "https://m.media-amazon.com/images/I/71+mIAH6umL._AC_UL320_.jpg\n",
      "https://m.media-amazon.com/images/I/61f5zNmCY1L._AC_UL320_.jpg\n",
      "https://m.media-amazon.com/images/I/71XKygB9u7L._AC_UL320_.jpg\n",
      "https://m.media-amazon.com/images/I/71f81hamthL._AC_UL320_.jpg\n",
      "https://m.media-amazon.com/images/I/81O9HG8ydFL._AC_UL320_.jpg\n",
      "https://m.media-amazon.com/images/I/71ETLX5vIQL._AC_UL320_.jpg\n",
      "https://m.media-amazon.com/images/I/71BncDzkYaL._AC_UL320_.jpg\n",
      "https://m.media-amazon.com/images/I/71kdVCKPy3L._AC_UL320_.jpg\n",
      "https://m.media-amazon.com/images/I/715qwDpY3TL._AC_UL320_.jpg\n",
      "https://m.media-amazon.com/images/I/611ZoqIfN1L._AC_UL320_.jpg\n",
      "https://m.media-amazon.com/images/I/71F6nGXnVxL._AC_UL320_.jpg\n",
      "https://m.media-amazon.com/images/I/71bBi+VTYcL._AC_UL320_.jpg\n",
      "https://m.media-amazon.com/images/I/71w2CPE6i4L._AC_UL320_.jpg\n",
      "https://m.media-amazon.com/images/I/71T9zjJivZL._AC_UL320_.jpg\n"
     ]
    }
   ],
   "source": [
    "urls= []\n",
    "for image in images:\n",
    "    source= image.get_attribute('src')\n",
    "    urls.append(source)\n",
    "    print(source)"
   ]
  },
  {
   "cell_type": "code",
   "execution_count": 93,
   "metadata": {},
   "outputs": [
    {
     "name": "stdout",
     "output_type": "stream",
     "text": [
      "Downloading 1 of 60 images from page 1\n",
      "Downloading 2 of 60 images from page 1\n",
      "Downloading 3 of 60 images from page 1\n",
      "Downloading 4 of 60 images from page 1\n",
      "Downloading 5 of 60 images from page 1\n",
      "Downloading 6 of 60 images from page 1\n",
      "Downloading 7 of 60 images from page 1\n",
      "Downloading 8 of 60 images from page 1\n",
      "Downloading 9 of 60 images from page 1\n",
      "Downloading 10 of 60 images from page 1\n",
      "Downloading 11 of 60 images from page 1\n",
      "Downloading 12 of 60 images from page 1\n",
      "Downloading 13 of 60 images from page 1\n",
      "Downloading 14 of 60 images from page 1\n",
      "Downloading 15 of 60 images from page 1\n",
      "Downloading 16 of 60 images from page 1\n",
      "Downloading 17 of 60 images from page 1\n",
      "Downloading 18 of 60 images from page 1\n",
      "Downloading 19 of 60 images from page 1\n",
      "Downloading 20 of 60 images from page 1\n",
      "Downloading 21 of 60 images from page 1\n",
      "Downloading 22 of 60 images from page 1\n",
      "Downloading 23 of 60 images from page 1\n",
      "Downloading 24 of 60 images from page 1\n",
      "Downloading 25 of 60 images from page 1\n",
      "Downloading 26 of 60 images from page 1\n",
      "Downloading 27 of 60 images from page 1\n",
      "Downloading 28 of 60 images from page 1\n",
      "Downloading 29 of 60 images from page 1\n",
      "Downloading 30 of 60 images from page 1\n",
      "Downloading 31 of 60 images from page 1\n",
      "Downloading 32 of 60 images from page 1\n",
      "Downloading 33 of 60 images from page 1\n",
      "Downloading 34 of 60 images from page 1\n",
      "Downloading 35 of 60 images from page 1\n",
      "Downloading 36 of 60 images from page 1\n",
      "Downloading 37 of 60 images from page 1\n",
      "Downloading 38 of 60 images from page 1\n",
      "Downloading 39 of 60 images from page 1\n",
      "Downloading 40 of 60 images from page 1\n",
      "Downloading 41 of 60 images from page 1\n",
      "Downloading 42 of 60 images from page 1\n",
      "Downloading 43 of 60 images from page 1\n",
      "Downloading 44 of 60 images from page 1\n",
      "Downloading 45 of 60 images from page 1\n",
      "Downloading 46 of 60 images from page 1\n",
      "Downloading 47 of 60 images from page 1\n",
      "Downloading 48 of 60 images from page 1\n",
      "Downloading 49 of 60 images from page 1\n",
      "Downloading 50 of 60 images from page 1\n",
      "Downloading 51 of 60 images from page 1\n",
      "Downloading 52 of 60 images from page 1\n",
      "Downloading 53 of 60 images from page 1\n",
      "Downloading 54 of 60 images from page 1\n",
      "Downloading 55 of 60 images from page 1\n",
      "Downloading 56 of 60 images from page 1\n",
      "Downloading 57 of 60 images from page 1\n",
      "Downloading 58 of 60 images from page 1\n",
      "Downloading 59 of 60 images from page 1\n",
      "Downloading 60 of 60 images from page 1\n"
     ]
    }
   ],
   "source": [
    "page=1\n",
    "for index, link in enumerate(urls):\n",
    "    print(\"Downloading {0} of {1} images from page 1\".format(index+1,len(urls)))\n",
    "    response=requests.get(link)\n",
    "    with open('trouser_men/img_{0}{1}.jpeg'.format(index,page),\"wb\")as file:\n",
    "        file.write(response.content)"
   ]
  },
  {
   "cell_type": "code",
   "execution_count": 94,
   "metadata": {},
   "outputs": [],
   "source": [
    "next_page=driver.find_element_by_xpath(\"//li[@class='a-last']//a\").click()"
   ]
  },
  {
   "cell_type": "code",
   "execution_count": 95,
   "metadata": {},
   "outputs": [
    {
     "name": "stdout",
     "output_type": "stream",
     "text": [
      "60\n"
     ]
    }
   ],
   "source": [
    "images=driver.find_elements_by_xpath(\"//img[@class='s-image']\")\n",
    "print(len(images))"
   ]
  },
  {
   "cell_type": "code",
   "execution_count": 96,
   "metadata": {},
   "outputs": [
    {
     "name": "stdout",
     "output_type": "stream",
     "text": [
      "https://m.media-amazon.com/images/I/718S+pk0GZL._AC_UL320_.jpg\n",
      "https://m.media-amazon.com/images/I/61P4P7GicYL._AC_UL320_.jpg\n",
      "https://m.media-amazon.com/images/I/61xm3OpMyeL._AC_UL320_.jpg\n",
      "https://m.media-amazon.com/images/I/81Y+F+O-J8L._AC_UL320_.jpg\n",
      "https://m.media-amazon.com/images/I/81ccugdOKeL._AC_UL320_.jpg\n",
      "https://m.media-amazon.com/images/I/91IxwzgkBAL._AC_UL320_.jpg\n",
      "https://m.media-amazon.com/images/I/81uI8OHU+2L._AC_UL320_.jpg\n",
      "https://m.media-amazon.com/images/I/81C2eaWfBVL._AC_UL320_.jpg\n",
      "https://m.media-amazon.com/images/I/81DOwUqSO6L._AC_UL320_.jpg\n",
      "https://m.media-amazon.com/images/I/91eMGK8om4L._AC_UL320_.jpg\n",
      "https://m.media-amazon.com/images/I/71GX7epgFLL._AC_UL320_.jpg\n",
      "https://m.media-amazon.com/images/I/81iXqOeZcGL._AC_UL320_.jpg\n",
      "https://m.media-amazon.com/images/I/817nHHh2eyL._AC_UL320_.jpg\n",
      "https://m.media-amazon.com/images/I/71pgtmd8FpL._AC_UL320_.jpg\n",
      "https://m.media-amazon.com/images/I/71EnkTb1wRL._AC_UL320_.jpg\n",
      "https://m.media-amazon.com/images/I/711fL8aHQAL._AC_UL320_.jpg\n",
      "https://m.media-amazon.com/images/I/71mPrxTrE-L._AC_UL320_.jpg\n",
      "https://m.media-amazon.com/images/I/716xAbmAPFL._AC_UL320_.jpg\n",
      "https://m.media-amazon.com/images/I/91uoIMFX8mL._AC_UL320_.jpg\n",
      "https://m.media-amazon.com/images/I/611AMZGGHNL._AC_UL320_.jpg\n",
      "https://m.media-amazon.com/images/I/71prv9pOb8L._AC_UL320_.jpg\n",
      "https://m.media-amazon.com/images/I/71YJOyytAEL._AC_UL320_.jpg\n",
      "https://m.media-amazon.com/images/I/71GL7fU-ZqL._AC_UL320_.jpg\n",
      "https://m.media-amazon.com/images/I/813lTCLYiWL._AC_UL320_.jpg\n",
      "https://m.media-amazon.com/images/I/71tnmDxhjcL._AC_UL320_.jpg\n",
      "https://m.media-amazon.com/images/I/71xAkHKfR6L._AC_UL320_.jpg\n",
      "https://m.media-amazon.com/images/I/71LoodMgvsL._AC_UL320_.jpg\n",
      "https://m.media-amazon.com/images/I/81tP1ldZ3tL._AC_UL320_.jpg\n",
      "https://m.media-amazon.com/images/I/51PAvYvziBL._AC_UL320_.jpg\n",
      "https://m.media-amazon.com/images/I/71N2Fy81BjL._AC_UL320_.jpg\n",
      "https://m.media-amazon.com/images/I/717qYkABf8L._AC_UL320_.jpg\n",
      "https://m.media-amazon.com/images/I/71KPEjSMblL._AC_UL320_.jpg\n",
      "https://m.media-amazon.com/images/I/811Kuj6T69L._AC_UL320_.jpg\n",
      "https://m.media-amazon.com/images/I/81U+AGE7LmL._AC_UL320_.jpg\n",
      "https://m.media-amazon.com/images/I/71kU8iG29oL._AC_UL320_.jpg\n",
      "https://m.media-amazon.com/images/I/61twJNmiEiL._AC_UL320_.jpg\n",
      "https://m.media-amazon.com/images/I/71NM-ZMZnmL._AC_UL320_.jpg\n",
      "https://m.media-amazon.com/images/I/61jL3xxK98L._AC_UL320_.jpg\n",
      "https://m.media-amazon.com/images/I/81JZ-jG110L._AC_UL320_.jpg\n",
      "https://m.media-amazon.com/images/I/31kxJpmOPAL._AC_UL320_.jpg\n",
      "https://m.media-amazon.com/images/I/711MhUpHPfL._AC_UL320_.jpg\n",
      "https://m.media-amazon.com/images/I/61h9bqq8tnL._AC_UL320_.jpg\n",
      "https://m.media-amazon.com/images/I/71+2vqn-2mL._AC_UL320_.jpg\n",
      "https://m.media-amazon.com/images/I/31mtXcYy+OL._AC_UL320_.jpg\n",
      "https://m.media-amazon.com/images/I/815SgKrcK-L._AC_UL320_.jpg\n",
      "https://m.media-amazon.com/images/I/51lc2J8W-mL._AC_UL320_.jpg\n",
      "https://m.media-amazon.com/images/I/716xq6qwejL._AC_UL320_.jpg\n",
      "https://m.media-amazon.com/images/I/71z49Zv9ZRL._AC_UL320_.jpg\n",
      "https://m.media-amazon.com/images/I/81b5CXMiT6L._AC_UL320_.jpg\n",
      "https://m.media-amazon.com/images/I/81m8Cl5VA+L._AC_UL320_.jpg\n",
      "https://m.media-amazon.com/images/I/810bBm6koOL._AC_UL320_.jpg\n",
      "https://m.media-amazon.com/images/I/81rqzK2UG+L._AC_UL320_.jpg\n",
      "https://m.media-amazon.com/images/I/71x76XsLgeL._AC_UL320_.jpg\n",
      "https://m.media-amazon.com/images/I/81LHzDCQMNL._AC_UL320_.jpg\n",
      "https://m.media-amazon.com/images/I/71FUyFmSt1L._AC_UL320_.jpg\n",
      "https://m.media-amazon.com/images/I/8187LDuJjLL._AC_UL320_.jpg\n",
      "https://m.media-amazon.com/images/I/71F6nGXnVxL._AC_UL320_.jpg\n",
      "https://m.media-amazon.com/images/I/71bBi+VTYcL._AC_UL320_.jpg\n",
      "https://m.media-amazon.com/images/I/71w2CPE6i4L._AC_UL320_.jpg\n",
      "https://m.media-amazon.com/images/I/71T9zjJivZL._AC_UL320_.jpg\n"
     ]
    }
   ],
   "source": [
    "urls= []\n",
    "for image in images:\n",
    "    source= image.get_attribute('src')\n",
    "    urls.append(source)\n",
    "    print(source)"
   ]
  },
  {
   "cell_type": "code",
   "execution_count": 97,
   "metadata": {},
   "outputs": [
    {
     "name": "stdout",
     "output_type": "stream",
     "text": [
      "Downloading 1 of 60 images from page 2\n",
      "Downloading 2 of 60 images from page 2\n",
      "Downloading 3 of 60 images from page 2\n",
      "Downloading 4 of 60 images from page 2\n",
      "Downloading 5 of 60 images from page 2\n",
      "Downloading 6 of 60 images from page 2\n",
      "Downloading 7 of 60 images from page 2\n",
      "Downloading 8 of 60 images from page 2\n",
      "Downloading 9 of 60 images from page 2\n",
      "Downloading 10 of 60 images from page 2\n",
      "Downloading 11 of 60 images from page 2\n",
      "Downloading 12 of 60 images from page 2\n",
      "Downloading 13 of 60 images from page 2\n",
      "Downloading 14 of 60 images from page 2\n",
      "Downloading 15 of 60 images from page 2\n",
      "Downloading 16 of 60 images from page 2\n",
      "Downloading 17 of 60 images from page 2\n",
      "Downloading 18 of 60 images from page 2\n",
      "Downloading 19 of 60 images from page 2\n",
      "Downloading 20 of 60 images from page 2\n",
      "Downloading 21 of 60 images from page 2\n",
      "Downloading 22 of 60 images from page 2\n",
      "Downloading 23 of 60 images from page 2\n",
      "Downloading 24 of 60 images from page 2\n",
      "Downloading 25 of 60 images from page 2\n",
      "Downloading 26 of 60 images from page 2\n",
      "Downloading 27 of 60 images from page 2\n",
      "Downloading 28 of 60 images from page 2\n",
      "Downloading 29 of 60 images from page 2\n",
      "Downloading 30 of 60 images from page 2\n",
      "Downloading 31 of 60 images from page 2\n",
      "Downloading 32 of 60 images from page 2\n",
      "Downloading 33 of 60 images from page 2\n",
      "Downloading 34 of 60 images from page 2\n",
      "Downloading 35 of 60 images from page 2\n",
      "Downloading 36 of 60 images from page 2\n",
      "Downloading 37 of 60 images from page 2\n",
      "Downloading 38 of 60 images from page 2\n",
      "Downloading 39 of 60 images from page 2\n",
      "Downloading 40 of 60 images from page 2\n",
      "Downloading 41 of 60 images from page 2\n",
      "Downloading 42 of 60 images from page 2\n",
      "Downloading 43 of 60 images from page 2\n",
      "Downloading 44 of 60 images from page 2\n",
      "Downloading 45 of 60 images from page 2\n",
      "Downloading 46 of 60 images from page 2\n",
      "Downloading 47 of 60 images from page 2\n",
      "Downloading 48 of 60 images from page 2\n",
      "Downloading 49 of 60 images from page 2\n",
      "Downloading 50 of 60 images from page 2\n",
      "Downloading 51 of 60 images from page 2\n",
      "Downloading 52 of 60 images from page 2\n",
      "Downloading 53 of 60 images from page 2\n",
      "Downloading 54 of 60 images from page 2\n",
      "Downloading 55 of 60 images from page 2\n",
      "Downloading 56 of 60 images from page 2\n",
      "Downloading 57 of 60 images from page 2\n",
      "Downloading 58 of 60 images from page 2\n",
      "Downloading 59 of 60 images from page 2\n",
      "Downloading 60 of 60 images from page 2\n"
     ]
    }
   ],
   "source": [
    "page=2\n",
    "for index, link in enumerate(urls):\n",
    "    print(\"Downloading {0} of {1} images from page 2\".format(index+1,len(urls)))\n",
    "    response=requests.get(link)\n",
    "    with open('trouser_men/img_{0}{1}.jpeg'.format(index,page),\"wb\")as file:\n",
    "        file.write(response.content)"
   ]
  },
  {
   "cell_type": "code",
   "execution_count": 98,
   "metadata": {},
   "outputs": [],
   "source": [
    "next_page=driver.find_element_by_xpath(\"//li[@class='a-last']//a\").click()"
   ]
  },
  {
   "cell_type": "code",
   "execution_count": 99,
   "metadata": {},
   "outputs": [
    {
     "name": "stdout",
     "output_type": "stream",
     "text": [
      "60\n"
     ]
    }
   ],
   "source": [
    "images=driver.find_elements_by_xpath(\"//img[@class='s-image']\")\n",
    "print(len(images))"
   ]
  },
  {
   "cell_type": "code",
   "execution_count": 100,
   "metadata": {},
   "outputs": [
    {
     "name": "stdout",
     "output_type": "stream",
     "text": [
      "https://m.media-amazon.com/images/I/718S+pk0GZL._AC_UL320_.jpg\n",
      "https://m.media-amazon.com/images/I/61P4P7GicYL._AC_UL320_.jpg\n",
      "https://m.media-amazon.com/images/I/61xm3OpMyeL._AC_UL320_.jpg\n",
      "https://m.media-amazon.com/images/I/81Y+F+O-J8L._AC_UL320_.jpg\n",
      "https://m.media-amazon.com/images/I/71uBUs+EJUL._AC_UL320_.jpg\n",
      "https://m.media-amazon.com/images/I/71oNGSaYIgL._AC_UL320_.jpg\n",
      "https://m.media-amazon.com/images/I/71QiGaKxaAL._AC_UL320_.jpg\n",
      "https://m.media-amazon.com/images/I/71UHoQ2wPzL._AC_UL320_.jpg\n",
      "https://m.media-amazon.com/images/I/81BavBSuXgL._AC_UL320_.jpg\n",
      "https://m.media-amazon.com/images/I/71Q5-OwPRoL._AC_UL320_.jpg\n",
      "https://m.media-amazon.com/images/I/81rqzK2UG+L._AC_UL320_.jpg\n",
      "https://m.media-amazon.com/images/I/9124I+nW-EL._AC_UL320_.jpg\n",
      "https://m.media-amazon.com/images/I/81IzsFgsb7L._AC_UL320_.jpg\n",
      "https://m.media-amazon.com/images/I/716U0jMfs7L._AC_UL320_.jpg\n",
      "https://m.media-amazon.com/images/I/71RDRa5YYhL._AC_UL320_.jpg\n",
      "https://m.media-amazon.com/images/I/71Nqz871FSL._AC_UL320_.jpg\n",
      "https://m.media-amazon.com/images/I/71kuO6nbh5L._AC_UL320_.jpg\n",
      "https://m.media-amazon.com/images/I/61fBfdpjr4L._AC_UL320_.jpg\n",
      "https://m.media-amazon.com/images/I/81oSMvrm9vL._AC_UL320_.jpg\n",
      "https://m.media-amazon.com/images/I/71S8CRgHUXL._AC_UL320_.jpg\n",
      "https://m.media-amazon.com/images/I/51D55ExsF0L._AC_UL320_.jpg\n",
      "https://m.media-amazon.com/images/I/814949QH1zL._AC_UL320_.jpg\n",
      "https://m.media-amazon.com/images/I/713qaM-JINL._AC_UL320_.jpg\n",
      "https://m.media-amazon.com/images/I/81LYZfHgEAL._AC_UL320_.jpg\n",
      "https://m.media-amazon.com/images/I/81bSE39nbmL._AC_UL320_.jpg\n",
      "https://m.media-amazon.com/images/I/61EOzu4TXiL._AC_UL320_.jpg\n",
      "https://m.media-amazon.com/images/I/61P4P7GicYL._AC_UL320_.jpg\n",
      "https://m.media-amazon.com/images/I/71-C9zi1vnL._AC_UL320_.jpg\n",
      "https://m.media-amazon.com/images/I/51PAvYvziBL._AC_UL320_.jpg\n",
      "https://m.media-amazon.com/images/I/71N2Fy81BjL._AC_UL320_.jpg\n",
      "https://m.media-amazon.com/images/I/717qYkABf8L._AC_UL320_.jpg\n",
      "https://m.media-amazon.com/images/I/71KPEjSMblL._AC_UL320_.jpg\n",
      "https://m.media-amazon.com/images/I/61niVTVJUZL._AC_UL320_.jpg\n",
      "https://m.media-amazon.com/images/I/71VFBqR3BJL._AC_UL320_.jpg\n",
      "https://m.media-amazon.com/images/I/81FYEu4yL0L._AC_UL320_.jpg\n",
      "https://m.media-amazon.com/images/I/71VCSKsobmL._AC_UL320_.jpg\n",
      "https://m.media-amazon.com/images/I/71gjWmOytCL._AC_UL320_.jpg\n",
      "https://m.media-amazon.com/images/I/61HaCBJqveL._AC_UL320_.jpg\n",
      "https://m.media-amazon.com/images/I/712+roIFYEL._AC_UL320_.jpg\n",
      "https://m.media-amazon.com/images/I/81VlHPW4xTL._AC_UL320_.jpg\n",
      "https://m.media-amazon.com/images/I/81bLGfxYRbL._AC_UL320_.jpg\n",
      "https://m.media-amazon.com/images/I/718oUfXx7zL._AC_UL320_.jpg\n",
      "https://m.media-amazon.com/images/I/81zh36QEztL._AC_UL320_.jpg\n",
      "https://m.media-amazon.com/images/I/71sgPEtiF2L._AC_UL320_.jpg\n",
      "https://m.media-amazon.com/images/I/61sKcv8lQsL._AC_UL320_.jpg\n",
      "https://m.media-amazon.com/images/I/71Me5sxADbL._AC_UL320_.jpg\n",
      "https://m.media-amazon.com/images/I/815zuEF9E5L._AC_UL320_.jpg\n",
      "https://m.media-amazon.com/images/I/710mb67z9fL._AC_UL320_.jpg\n",
      "https://m.media-amazon.com/images/I/71shJv0QjaL._AC_UL320_.jpg\n",
      "https://m.media-amazon.com/images/I/61bf26eTn9L._AC_UL320_.jpg\n",
      "https://m.media-amazon.com/images/I/61MlAxJricL._AC_UL320_.jpg\n",
      "https://m.media-amazon.com/images/I/717OV-2IpCL._AC_UL320_.jpg\n",
      "https://m.media-amazon.com/images/I/915jMAh44EL._AC_UL320_.jpg\n",
      "https://m.media-amazon.com/images/I/51PAvYvziBL._AC_UL320_.jpg\n",
      "https://m.media-amazon.com/images/I/71uqntDlfwL._AC_UL320_.jpg\n",
      "https://m.media-amazon.com/images/I/61azdRCEjEL._AC_UL320_.jpg\n",
      "https://m.media-amazon.com/images/I/71F6nGXnVxL._AC_UL320_.jpg\n",
      "https://m.media-amazon.com/images/I/71bBi+VTYcL._AC_UL320_.jpg\n",
      "https://m.media-amazon.com/images/I/71T9zjJivZL._AC_UL320_.jpg\n",
      "https://m.media-amazon.com/images/I/71zluobY8oL._AC_UL320_.jpg\n"
     ]
    }
   ],
   "source": [
    "urls= []\n",
    "for image in images:\n",
    "    source= image.get_attribute('src')\n",
    "    urls.append(source)\n",
    "    print(source)"
   ]
  },
  {
   "cell_type": "code",
   "execution_count": 101,
   "metadata": {},
   "outputs": [
    {
     "name": "stdout",
     "output_type": "stream",
     "text": [
      "Downloading 1 of 60 images from page 3\n",
      "Downloading 2 of 60 images from page 3\n",
      "Downloading 3 of 60 images from page 3\n",
      "Downloading 4 of 60 images from page 3\n",
      "Downloading 5 of 60 images from page 3\n",
      "Downloading 6 of 60 images from page 3\n",
      "Downloading 7 of 60 images from page 3\n",
      "Downloading 8 of 60 images from page 3\n",
      "Downloading 9 of 60 images from page 3\n",
      "Downloading 10 of 60 images from page 3\n",
      "Downloading 11 of 60 images from page 3\n",
      "Downloading 12 of 60 images from page 3\n",
      "Downloading 13 of 60 images from page 3\n",
      "Downloading 14 of 60 images from page 3\n",
      "Downloading 15 of 60 images from page 3\n",
      "Downloading 16 of 60 images from page 3\n",
      "Downloading 17 of 60 images from page 3\n",
      "Downloading 18 of 60 images from page 3\n",
      "Downloading 19 of 60 images from page 3\n",
      "Downloading 20 of 60 images from page 3\n",
      "Downloading 21 of 60 images from page 3\n",
      "Downloading 22 of 60 images from page 3\n",
      "Downloading 23 of 60 images from page 3\n",
      "Downloading 24 of 60 images from page 3\n",
      "Downloading 25 of 60 images from page 3\n",
      "Downloading 26 of 60 images from page 3\n",
      "Downloading 27 of 60 images from page 3\n",
      "Downloading 28 of 60 images from page 3\n",
      "Downloading 29 of 60 images from page 3\n",
      "Downloading 30 of 60 images from page 3\n",
      "Downloading 31 of 60 images from page 3\n",
      "Downloading 32 of 60 images from page 3\n",
      "Downloading 33 of 60 images from page 3\n",
      "Downloading 34 of 60 images from page 3\n",
      "Downloading 35 of 60 images from page 3\n",
      "Downloading 36 of 60 images from page 3\n",
      "Downloading 37 of 60 images from page 3\n",
      "Downloading 38 of 60 images from page 3\n",
      "Downloading 39 of 60 images from page 3\n",
      "Downloading 40 of 60 images from page 3\n",
      "Downloading 41 of 60 images from page 3\n",
      "Downloading 42 of 60 images from page 3\n",
      "Downloading 43 of 60 images from page 3\n",
      "Downloading 44 of 60 images from page 3\n",
      "Downloading 45 of 60 images from page 3\n",
      "Downloading 46 of 60 images from page 3\n",
      "Downloading 47 of 60 images from page 3\n",
      "Downloading 48 of 60 images from page 3\n",
      "Downloading 49 of 60 images from page 3\n",
      "Downloading 50 of 60 images from page 3\n",
      "Downloading 51 of 60 images from page 3\n",
      "Downloading 52 of 60 images from page 3\n",
      "Downloading 53 of 60 images from page 3\n",
      "Downloading 54 of 60 images from page 3\n",
      "Downloading 55 of 60 images from page 3\n",
      "Downloading 56 of 60 images from page 3\n",
      "Downloading 57 of 60 images from page 3\n",
      "Downloading 58 of 60 images from page 3\n",
      "Downloading 59 of 60 images from page 3\n",
      "Downloading 60 of 60 images from page 3\n"
     ]
    }
   ],
   "source": [
    "page=3\n",
    "for index, link in enumerate(urls):\n",
    "    print(\"Downloading {0} of {1} images from page 3\".format(index+1,len(urls)))\n",
    "    response=requests.get(link)\n",
    "    with open('trouser_men/img_{0}{1}.jpeg'.format(index,page),\"wb\")as file:\n",
    "        file.write(response.content)"
   ]
  },
  {
   "cell_type": "code",
   "execution_count": 102,
   "metadata": {},
   "outputs": [],
   "source": [
    "next_page=driver.find_element_by_xpath(\"//li[@class='a-last']//a\").click()"
   ]
  },
  {
   "cell_type": "code",
   "execution_count": 103,
   "metadata": {},
   "outputs": [
    {
     "name": "stdout",
     "output_type": "stream",
     "text": [
      "60\n"
     ]
    }
   ],
   "source": [
    "images=driver.find_elements_by_xpath(\"//img[@class='s-image']\")\n",
    "print(len(images))"
   ]
  },
  {
   "cell_type": "code",
   "execution_count": 104,
   "metadata": {},
   "outputs": [
    {
     "name": "stdout",
     "output_type": "stream",
     "text": [
      "https://m.media-amazon.com/images/I/718S+pk0GZL._AC_UL320_.jpg\n",
      "https://m.media-amazon.com/images/I/61P4P7GicYL._AC_UL320_.jpg\n",
      "https://m.media-amazon.com/images/I/61xm3OpMyeL._AC_UL320_.jpg\n",
      "https://m.media-amazon.com/images/I/81Y+F+O-J8L._AC_UL320_.jpg\n",
      "https://m.media-amazon.com/images/I/61k6CCpjDML._AC_UL320_.jpg\n",
      "https://m.media-amazon.com/images/I/61hOM8Wv+2L._AC_UL320_.jpg\n",
      "https://m.media-amazon.com/images/I/71gZJCz3r+L._AC_UL320_.jpg\n",
      "https://m.media-amazon.com/images/I/81oChsLXGNL._AC_UL320_.jpg\n",
      "https://m.media-amazon.com/images/I/617G5vMNjOL._AC_UL320_.jpg\n",
      "https://m.media-amazon.com/images/I/71ij9BXtILL._AC_UL320_.jpg\n",
      "https://m.media-amazon.com/images/I/81SlLH4BhNL._AC_UL320_.jpg\n",
      "https://m.media-amazon.com/images/I/71f0xlIFcaL._AC_UL320_.jpg\n",
      "https://m.media-amazon.com/images/I/71pMpIqcePL._AC_UL320_.jpg\n",
      "https://m.media-amazon.com/images/I/81i4wn2T8RL._AC_UL320_.jpg\n",
      "https://m.media-amazon.com/images/I/71PwhKWGMnL._AC_UL320_.jpg\n",
      "https://m.media-amazon.com/images/I/61dQzyRwv7L._AC_UL320_.jpg\n",
      "https://m.media-amazon.com/images/I/81Qn+xBUlBL._AC_UL320_.jpg\n",
      "https://m.media-amazon.com/images/I/81OllpAs3qL._AC_UL320_.jpg\n",
      "https://m.media-amazon.com/images/I/71j0UC3swWL._AC_UL320_.jpg\n",
      "https://m.media-amazon.com/images/I/814C1HpkW1L._AC_UL320_.jpg\n",
      "https://m.media-amazon.com/images/I/81v6idLUNmL._AC_UL320_.jpg\n",
      "https://m.media-amazon.com/images/I/91a2iCGHU+L._AC_UL320_.jpg\n",
      "https://m.media-amazon.com/images/I/71UQnulIEHL._AC_UL320_.jpg\n",
      "https://m.media-amazon.com/images/I/710jQF5ccHL._AC_UL320_.jpg\n",
      "https://m.media-amazon.com/images/I/71pHYLt0qtL._AC_UL320_.jpg\n",
      "https://m.media-amazon.com/images/I/71QydpE5t1L._AC_UL320_.jpg\n",
      "https://m.media-amazon.com/images/I/91o0sFJ4rXL._AC_UL320_.jpg\n",
      "https://m.media-amazon.com/images/I/71JkP41frwL._AC_UL320_.jpg\n",
      "https://m.media-amazon.com/images/I/51PAvYvziBL._AC_UL320_.jpg\n",
      "https://m.media-amazon.com/images/I/71N2Fy81BjL._AC_UL320_.jpg\n",
      "https://m.media-amazon.com/images/I/717qYkABf8L._AC_UL320_.jpg\n",
      "https://m.media-amazon.com/images/I/71KPEjSMblL._AC_UL320_.jpg\n",
      "https://m.media-amazon.com/images/I/51ylQ00M5CL._AC_UL320_.jpg\n",
      "https://m.media-amazon.com/images/I/71XdXDkQo9L._AC_UL320_.jpg\n",
      "https://m.media-amazon.com/images/I/81VOMl3an-L._AC_UL320_.jpg\n",
      "https://m.media-amazon.com/images/I/61Js2gupzAL._AC_UL320_.jpg\n",
      "https://m.media-amazon.com/images/I/71AAsN7F77L._AC_UL320_.jpg\n",
      "https://m.media-amazon.com/images/I/71wjMzigD1L._AC_UL320_.jpg\n",
      "https://m.media-amazon.com/images/I/814a7vcQwBL._AC_UL320_.jpg\n",
      "https://m.media-amazon.com/images/I/4106GT7M9EL._AC_UL320_.jpg\n",
      "https://m.media-amazon.com/images/I/91qpldVojyL._AC_UL320_.jpg\n",
      "https://m.media-amazon.com/images/I/617BxvBwFOL._AC_UL320_.jpg\n",
      "https://m.media-amazon.com/images/I/71OxdjJkEDL._AC_UL320_.jpg\n",
      "https://m.media-amazon.com/images/I/61br++f3PmL._AC_UL320_.jpg\n",
      "https://m.media-amazon.com/images/I/71fDjmlmV+L._AC_UL320_.jpg\n",
      "https://m.media-amazon.com/images/I/71a4s7Z+55L._AC_UL320_.jpg\n",
      "https://m.media-amazon.com/images/I/61iZYj5JRaL._AC_UL320_.jpg\n",
      "https://m.media-amazon.com/images/I/51bAn5McnUL._AC_UL320_.jpg\n",
      "https://m.media-amazon.com/images/I/814XT2ubGRL._AC_UL320_.jpg\n",
      "https://m.media-amazon.com/images/I/81yEueJAIfL._AC_UL320_.jpg\n",
      "https://m.media-amazon.com/images/I/61GrQH5IOrL._AC_UL320_.jpg\n",
      "https://m.media-amazon.com/images/I/615ksC4lFWL._AC_UL320_.jpg\n",
      "https://m.media-amazon.com/images/I/61GWghVk53L._AC_UL320_.jpg\n",
      "https://m.media-amazon.com/images/I/71WLevKfdaL._AC_UL320_.jpg\n",
      "https://m.media-amazon.com/images/I/613U6q6JakL._AC_UL320_.jpg\n",
      "https://m.media-amazon.com/images/I/814XqPnY2qL._AC_UL320_.jpg\n",
      "https://m.media-amazon.com/images/I/71F6nGXnVxL._AC_UL320_.jpg\n",
      "https://m.media-amazon.com/images/I/71bBi+VTYcL._AC_UL320_.jpg\n",
      "https://m.media-amazon.com/images/I/71T9zjJivZL._AC_UL320_.jpg\n",
      "https://m.media-amazon.com/images/I/71zluobY8oL._AC_UL320_.jpg\n"
     ]
    }
   ],
   "source": [
    "urls= []\n",
    "for image in images:\n",
    "    source= image.get_attribute('src')\n",
    "    urls.append(source)\n",
    "    print(source)"
   ]
  },
  {
   "cell_type": "code",
   "execution_count": 106,
   "metadata": {},
   "outputs": [
    {
     "name": "stdout",
     "output_type": "stream",
     "text": [
      "Downloading 1 of 60 images from page 4\n",
      "Downloading 2 of 60 images from page 4\n",
      "Downloading 3 of 60 images from page 4\n",
      "Downloading 4 of 60 images from page 4\n",
      "Downloading 5 of 60 images from page 4\n",
      "Downloading 6 of 60 images from page 4\n",
      "Downloading 7 of 60 images from page 4\n",
      "Downloading 8 of 60 images from page 4\n",
      "Downloading 9 of 60 images from page 4\n",
      "Downloading 10 of 60 images from page 4\n",
      "Downloading 11 of 60 images from page 4\n",
      "Downloading 12 of 60 images from page 4\n",
      "Downloading 13 of 60 images from page 4\n",
      "Downloading 14 of 60 images from page 4\n",
      "Downloading 15 of 60 images from page 4\n",
      "Downloading 16 of 60 images from page 4\n",
      "Downloading 17 of 60 images from page 4\n",
      "Downloading 18 of 60 images from page 4\n",
      "Downloading 19 of 60 images from page 4\n",
      "Downloading 20 of 60 images from page 4\n",
      "Downloading 21 of 60 images from page 4\n",
      "Downloading 22 of 60 images from page 4\n",
      "Downloading 23 of 60 images from page 4\n",
      "Downloading 24 of 60 images from page 4\n",
      "Downloading 25 of 60 images from page 4\n",
      "Downloading 26 of 60 images from page 4\n",
      "Downloading 27 of 60 images from page 4\n",
      "Downloading 28 of 60 images from page 4\n",
      "Downloading 29 of 60 images from page 4\n",
      "Downloading 30 of 60 images from page 4\n",
      "Downloading 31 of 60 images from page 4\n",
      "Downloading 32 of 60 images from page 4\n",
      "Downloading 33 of 60 images from page 4\n",
      "Downloading 34 of 60 images from page 4\n",
      "Downloading 35 of 60 images from page 4\n",
      "Downloading 36 of 60 images from page 4\n",
      "Downloading 37 of 60 images from page 4\n",
      "Downloading 38 of 60 images from page 4\n",
      "Downloading 39 of 60 images from page 4\n",
      "Downloading 40 of 60 images from page 4\n",
      "Downloading 41 of 60 images from page 4\n",
      "Downloading 42 of 60 images from page 4\n",
      "Downloading 43 of 60 images from page 4\n",
      "Downloading 44 of 60 images from page 4\n",
      "Downloading 45 of 60 images from page 4\n",
      "Downloading 46 of 60 images from page 4\n",
      "Downloading 47 of 60 images from page 4\n",
      "Downloading 48 of 60 images from page 4\n",
      "Downloading 49 of 60 images from page 4\n",
      "Downloading 50 of 60 images from page 4\n",
      "Downloading 51 of 60 images from page 4\n",
      "Downloading 52 of 60 images from page 4\n",
      "Downloading 53 of 60 images from page 4\n",
      "Downloading 54 of 60 images from page 4\n",
      "Downloading 55 of 60 images from page 4\n",
      "Downloading 56 of 60 images from page 4\n",
      "Downloading 57 of 60 images from page 4\n",
      "Downloading 58 of 60 images from page 4\n",
      "Downloading 59 of 60 images from page 4\n",
      "Downloading 60 of 60 images from page 4\n"
     ]
    }
   ],
   "source": [
    "page=4\n",
    "for index, link in enumerate(urls):\n",
    "    print(\"Downloading {0} of {1} images from page 4\".format(index+1,len(urls)))\n",
    "    response=requests.get(link)\n",
    "    with open('trouser_men/img_{0}{1}.jpeg'.format(index,page),\"wb\")as file:\n",
    "        file.write(response.content)"
   ]
  },
  {
   "cell_type": "markdown",
   "metadata": {},
   "source": [
    "### Saree_women"
   ]
  },
  {
   "cell_type": "code",
   "execution_count": 107,
   "metadata": {},
   "outputs": [],
   "source": [
    "my_pages3=driver.get(\"https://www.amazon.in/s?i=apparel&bbn=1968256031&rh=n%3A1968256031%2Cp_n_feature_nineteen_browse-bin%3A11301357031%2Cp_36%3A4595088031&dc&qid=1609913383&rnid=4595083031&ref=sr_nr_p_36_5\")\n"
   ]
  },
  {
   "cell_type": "code",
   "execution_count": 108,
   "metadata": {},
   "outputs": [],
   "source": [
    "def make_directory(dirname):\n",
    "    current_path= os.getcwd()\n",
    "    path=os.path.join(current_path,dirname)\n",
    "    if not os.path.exists(path):\n",
    "        os.makedirs(path)"
   ]
  },
  {
   "cell_type": "code",
   "execution_count": 109,
   "metadata": {},
   "outputs": [],
   "source": [
    "make_directory(\"saree_women\")"
   ]
  },
  {
   "cell_type": "code",
   "execution_count": 110,
   "metadata": {},
   "outputs": [],
   "source": [
    "images=driver.find_elements_by_xpath(\"//img[@class='s-image']\")"
   ]
  },
  {
   "cell_type": "code",
   "execution_count": 111,
   "metadata": {},
   "outputs": [
    {
     "name": "stdout",
     "output_type": "stream",
     "text": [
      "48\n"
     ]
    }
   ],
   "source": [
    "print(len(images))"
   ]
  },
  {
   "cell_type": "code",
   "execution_count": 112,
   "metadata": {},
   "outputs": [
    {
     "name": "stdout",
     "output_type": "stream",
     "text": [
      "https://m.media-amazon.com/images/I/71U10ZsxC+L._AC_UL320_.jpg\n",
      "https://m.media-amazon.com/images/I/81lUen3LI+L._AC_UL320_.jpg\n",
      "https://m.media-amazon.com/images/I/71wnsKDXaeL._AC_UL320_.jpg\n",
      "https://m.media-amazon.com/images/I/81jlPqmI3tL._AC_UL320_.jpg\n",
      "https://m.media-amazon.com/images/I/71pz+Tt0oEL._AC_UL320_.jpg\n",
      "https://m.media-amazon.com/images/I/71XnTFTQndL._AC_UL320_.jpg\n",
      "https://m.media-amazon.com/images/I/71QJAnz1LWL._AC_UL320_.jpg\n",
      "https://m.media-amazon.com/images/I/61dEYlVtsAL._AC_UL320_.jpg\n",
      "https://m.media-amazon.com/images/I/71QEpu2IqSL._AC_UL320_.jpg\n",
      "https://m.media-amazon.com/images/I/61GcrH8Yr8L._AC_UL320_.jpg\n",
      "https://m.media-amazon.com/images/I/811IehaCDxL._AC_UL320_.jpg\n",
      "https://m.media-amazon.com/images/I/61FyNUusOEL._AC_UL320_.jpg\n",
      "https://m.media-amazon.com/images/I/61OdxdPJLdL._AC_UL320_.jpg\n",
      "https://m.media-amazon.com/images/I/71nwTRE9X9L._AC_UL320_.jpg\n",
      "https://m.media-amazon.com/images/I/71khkyP+eyL._AC_UL320_.jpg\n",
      "https://m.media-amazon.com/images/I/61Tgw7x9opL._AC_UL320_.jpg\n",
      "https://m.media-amazon.com/images/I/61qBmRyEOSL._AC_UL320_.jpg\n",
      "https://m.media-amazon.com/images/I/81VfhatWxNL._AC_UL320_.jpg\n",
      "https://m.media-amazon.com/images/I/61c6c5tg+pL._AC_UL320_.jpg\n",
      "https://m.media-amazon.com/images/I/71jBZkq0tYL._AC_UL320_.jpg\n",
      "https://m.media-amazon.com/images/I/71H+qY5WWcL._AC_UL320_.jpg\n",
      "https://m.media-amazon.com/images/I/71wyQa2UCUL._AC_UL320_.jpg\n",
      "https://m.media-amazon.com/images/I/81F8NEl7JzL._AC_UL320_.jpg\n",
      "https://m.media-amazon.com/images/I/71rfy0YMwJL._AC_UL320_.jpg\n",
      "https://m.media-amazon.com/images/I/81wRaqrMDOL._AC_UL320_.jpg\n",
      "https://m.media-amazon.com/images/I/71RMqCYh3EL._AC_UL320_.jpg\n",
      "https://m.media-amazon.com/images/I/81VU+6iOPYL._AC_UL320_.jpg\n",
      "https://m.media-amazon.com/images/I/71dQ67x0INL._AC_UL320_.jpg\n",
      "https://m.media-amazon.com/images/I/71NNLy1D5ML._AC_UL320_.jpg\n",
      "https://m.media-amazon.com/images/I/61nzdLP-TXL._AC_UL320_.jpg\n",
      "https://m.media-amazon.com/images/I/71awcwsUHfL._AC_UL320_.jpg\n",
      "https://m.media-amazon.com/images/I/71n6BXoFf6L._AC_UL320_.jpg\n",
      "https://m.media-amazon.com/images/I/81Q9w68j-iL._AC_UL320_.jpg\n",
      "https://m.media-amazon.com/images/I/61hrQNnffDL._AC_UL320_.jpg\n",
      "https://m.media-amazon.com/images/I/71G9LpIyuQL._AC_UL320_.jpg\n",
      "https://m.media-amazon.com/images/I/81LnjXagKnL._AC_UL320_.jpg\n",
      "https://m.media-amazon.com/images/I/61ZdI+LiDcL._AC_UL320_.jpg\n",
      "https://m.media-amazon.com/images/I/817kqWcUsrL._AC_UL320_.jpg\n",
      "https://m.media-amazon.com/images/I/71VlakCUhpL._AC_UL320_.jpg\n",
      "https://m.media-amazon.com/images/I/71zKmRtZSSL._AC_UL320_.jpg\n",
      "https://m.media-amazon.com/images/I/81LCSPG0Q4L._AC_UL320_.jpg\n",
      "https://m.media-amazon.com/images/I/71KM8Fl-jkL._AC_UL320_.jpg\n",
      "https://m.media-amazon.com/images/I/71oWN4qQnuL._AC_UL320_.jpg\n",
      "https://m.media-amazon.com/images/I/61sM4xbes0L._AC_UL320_.jpg\n",
      "https://m.media-amazon.com/images/I/91FlNw0Wb0L._AC_UL320_.jpg\n",
      "https://m.media-amazon.com/images/I/71cnPI2yz4L._AC_UL320_.jpg\n",
      "https://m.media-amazon.com/images/I/812+3LU5llL._AC_UL320_.jpg\n",
      "https://m.media-amazon.com/images/I/81NNwHjt0pL._AC_UL320_.jpg\n"
     ]
    }
   ],
   "source": [
    "urls= []\n",
    "for image in images:\n",
    "    source= image.get_attribute('src')\n",
    "    urls.append(source)\n",
    "    print(source)"
   ]
  },
  {
   "cell_type": "code",
   "execution_count": 113,
   "metadata": {},
   "outputs": [
    {
     "name": "stdout",
     "output_type": "stream",
     "text": [
      "Downloading 1 of 48 images from page 1\n",
      "Downloading 2 of 48 images from page 1\n",
      "Downloading 3 of 48 images from page 1\n",
      "Downloading 4 of 48 images from page 1\n",
      "Downloading 5 of 48 images from page 1\n",
      "Downloading 6 of 48 images from page 1\n",
      "Downloading 7 of 48 images from page 1\n",
      "Downloading 8 of 48 images from page 1\n",
      "Downloading 9 of 48 images from page 1\n",
      "Downloading 10 of 48 images from page 1\n",
      "Downloading 11 of 48 images from page 1\n",
      "Downloading 12 of 48 images from page 1\n",
      "Downloading 13 of 48 images from page 1\n",
      "Downloading 14 of 48 images from page 1\n",
      "Downloading 15 of 48 images from page 1\n",
      "Downloading 16 of 48 images from page 1\n",
      "Downloading 17 of 48 images from page 1\n",
      "Downloading 18 of 48 images from page 1\n",
      "Downloading 19 of 48 images from page 1\n",
      "Downloading 20 of 48 images from page 1\n",
      "Downloading 21 of 48 images from page 1\n",
      "Downloading 22 of 48 images from page 1\n",
      "Downloading 23 of 48 images from page 1\n",
      "Downloading 24 of 48 images from page 1\n",
      "Downloading 25 of 48 images from page 1\n",
      "Downloading 26 of 48 images from page 1\n",
      "Downloading 27 of 48 images from page 1\n",
      "Downloading 28 of 48 images from page 1\n",
      "Downloading 29 of 48 images from page 1\n",
      "Downloading 30 of 48 images from page 1\n",
      "Downloading 31 of 48 images from page 1\n",
      "Downloading 32 of 48 images from page 1\n",
      "Downloading 33 of 48 images from page 1\n",
      "Downloading 34 of 48 images from page 1\n",
      "Downloading 35 of 48 images from page 1\n",
      "Downloading 36 of 48 images from page 1\n",
      "Downloading 37 of 48 images from page 1\n",
      "Downloading 38 of 48 images from page 1\n",
      "Downloading 39 of 48 images from page 1\n",
      "Downloading 40 of 48 images from page 1\n",
      "Downloading 41 of 48 images from page 1\n",
      "Downloading 42 of 48 images from page 1\n",
      "Downloading 43 of 48 images from page 1\n",
      "Downloading 44 of 48 images from page 1\n",
      "Downloading 45 of 48 images from page 1\n",
      "Downloading 46 of 48 images from page 1\n",
      "Downloading 47 of 48 images from page 1\n",
      "Downloading 48 of 48 images from page 1\n"
     ]
    }
   ],
   "source": [
    "page=1\n",
    "for index, link in enumerate(urls):\n",
    "    print(\"Downloading {0} of {1} images from page 1\".format(index+1,len(urls)))\n",
    "    response=requests.get(link)\n",
    "    with open('saree_women/img_{0}{1}.jpeg'.format(index,page),\"wb\")as file:\n",
    "        file.write(response.content)"
   ]
  },
  {
   "cell_type": "code",
   "execution_count": 114,
   "metadata": {},
   "outputs": [],
   "source": [
    "next_page=driver.find_element_by_xpath(\"//li[@class='a-last']//a\").click()"
   ]
  },
  {
   "cell_type": "code",
   "execution_count": 115,
   "metadata": {},
   "outputs": [
    {
     "name": "stdout",
     "output_type": "stream",
     "text": [
      "48\n"
     ]
    }
   ],
   "source": [
    "images=driver.find_elements_by_xpath(\"//img[@class='s-image']\")\n",
    "print(len(images))"
   ]
  },
  {
   "cell_type": "code",
   "execution_count": 116,
   "metadata": {},
   "outputs": [
    {
     "name": "stdout",
     "output_type": "stream",
     "text": [
      "https://m.media-amazon.com/images/I/61gvSP1dauL._AC_UL320_.jpg\n",
      "https://m.media-amazon.com/images/I/71Lu4VNLTpL._AC_UL320_.jpg\n",
      "https://m.media-amazon.com/images/I/61mss3mHEzL._AC_UL320_.jpg\n",
      "https://m.media-amazon.com/images/I/71pos0p1rvL._AC_UL320_.jpg\n",
      "https://m.media-amazon.com/images/I/81ocRD7qVYL._AC_UL320_.jpg\n",
      "https://m.media-amazon.com/images/I/818WKJV91yL._AC_UL320_.jpg\n",
      "https://m.media-amazon.com/images/I/71ZxubAyj5L._AC_UL320_.jpg\n",
      "https://m.media-amazon.com/images/I/81zEVM2FuXL._AC_UL320_.jpg\n",
      "https://m.media-amazon.com/images/I/61BlbaH0O1L._AC_UL320_.jpg\n",
      "https://m.media-amazon.com/images/I/718eRjZ+EzL._AC_UL320_.jpg\n",
      "https://m.media-amazon.com/images/I/710VFL+EokL._AC_UL320_.jpg\n",
      "https://m.media-amazon.com/images/I/71c6sJVLvPL._AC_UL320_.jpg\n",
      "https://m.media-amazon.com/images/I/71SolQXILdL._AC_UL320_.jpg\n",
      "https://m.media-amazon.com/images/I/71UIi+VyKrL._AC_UL320_.jpg\n",
      "https://m.media-amazon.com/images/I/61IT0X-QSHL._AC_UL320_.jpg\n",
      "https://m.media-amazon.com/images/I/81kbwDZA8pL._AC_UL320_.jpg\n",
      "https://m.media-amazon.com/images/I/612meFYBgQL._AC_UL320_.jpg\n",
      "https://m.media-amazon.com/images/I/81u2jLOgtrL._AC_UL320_.jpg\n",
      "https://m.media-amazon.com/images/I/71kF4DqU5eL._AC_UL320_.jpg\n",
      "https://m.media-amazon.com/images/I/71ciwSEBnZL._AC_UL320_.jpg\n",
      "https://m.media-amazon.com/images/I/81Dm9FK1JBL._AC_UL320_.jpg\n",
      "https://m.media-amazon.com/images/I/71DZh5HY1QL._AC_UL320_.jpg\n",
      "https://m.media-amazon.com/images/I/61WZIdMV+zL._AC_UL320_.jpg\n",
      "https://m.media-amazon.com/images/I/61K8UwpQzDL._AC_UL320_.jpg\n",
      "https://m.media-amazon.com/images/I/61mELOSSL2L._AC_UL320_.jpg\n",
      "https://m.media-amazon.com/images/I/81AHZy4BujL._AC_UL320_.jpg\n",
      "https://m.media-amazon.com/images/I/61B0tL92ZUL._AC_UL320_.jpg\n",
      "https://m.media-amazon.com/images/I/61vcuUy43sL._AC_UL320_.jpg\n",
      "https://m.media-amazon.com/images/I/91dUrGuUNtL._AC_UL320_.jpg\n",
      "https://m.media-amazon.com/images/I/61WeFJci8vL._AC_UL320_.jpg\n",
      "https://m.media-amazon.com/images/I/61Zi6OHwt9L._AC_UL320_.jpg\n",
      "https://m.media-amazon.com/images/I/71ZYF1CnA1L._AC_UL320_.jpg\n",
      "https://m.media-amazon.com/images/I/61bTZZI8TuL._AC_UL320_.jpg\n",
      "https://m.media-amazon.com/images/I/71f2f9favVL._AC_UL320_.jpg\n",
      "https://m.media-amazon.com/images/I/71qe5DZ2KYL._AC_UL320_.jpg\n",
      "https://m.media-amazon.com/images/I/81GDUPxzwCL._AC_UL320_.jpg\n",
      "https://m.media-amazon.com/images/I/71g7mQJ4krL._AC_UL320_.jpg\n",
      "https://m.media-amazon.com/images/I/71fvponiuDL._AC_UL320_.jpg\n",
      "https://m.media-amazon.com/images/I/61JD+Z0MloL._AC_UL320_.jpg\n",
      "https://m.media-amazon.com/images/I/81N6zag5AcL._AC_UL320_.jpg\n",
      "https://m.media-amazon.com/images/I/711kxM4WhZL._AC_UL320_.jpg\n",
      "https://m.media-amazon.com/images/I/71DreEYcA4L._AC_UL320_.jpg\n",
      "https://m.media-amazon.com/images/I/81lSm0CbP0L._AC_UL320_.jpg\n",
      "https://m.media-amazon.com/images/I/71DmHXIql6L._AC_UL320_.jpg\n",
      "https://m.media-amazon.com/images/I/71gGb9hHmUL._AC_UL320_.jpg\n",
      "https://m.media-amazon.com/images/I/615YcSjS7-L._AC_UL320_.jpg\n",
      "https://m.media-amazon.com/images/I/617sSCbWKlL._AC_UL320_.jpg\n",
      "https://m.media-amazon.com/images/I/911NzsWQahL._AC_UL320_.jpg\n"
     ]
    }
   ],
   "source": [
    "urls= []\n",
    "for image in images:\n",
    "    source= image.get_attribute('src')\n",
    "    urls.append(source)\n",
    "    print(source)"
   ]
  },
  {
   "cell_type": "code",
   "execution_count": 117,
   "metadata": {},
   "outputs": [
    {
     "name": "stdout",
     "output_type": "stream",
     "text": [
      "Downloading 1 of 48 images from page 2\n",
      "Downloading 2 of 48 images from page 2\n",
      "Downloading 3 of 48 images from page 2\n",
      "Downloading 4 of 48 images from page 2\n",
      "Downloading 5 of 48 images from page 2\n",
      "Downloading 6 of 48 images from page 2\n",
      "Downloading 7 of 48 images from page 2\n",
      "Downloading 8 of 48 images from page 2\n",
      "Downloading 9 of 48 images from page 2\n",
      "Downloading 10 of 48 images from page 2\n",
      "Downloading 11 of 48 images from page 2\n",
      "Downloading 12 of 48 images from page 2\n",
      "Downloading 13 of 48 images from page 2\n",
      "Downloading 14 of 48 images from page 2\n",
      "Downloading 15 of 48 images from page 2\n",
      "Downloading 16 of 48 images from page 2\n",
      "Downloading 17 of 48 images from page 2\n",
      "Downloading 18 of 48 images from page 2\n",
      "Downloading 19 of 48 images from page 2\n",
      "Downloading 20 of 48 images from page 2\n",
      "Downloading 21 of 48 images from page 2\n",
      "Downloading 22 of 48 images from page 2\n",
      "Downloading 23 of 48 images from page 2\n",
      "Downloading 24 of 48 images from page 2\n",
      "Downloading 25 of 48 images from page 2\n",
      "Downloading 26 of 48 images from page 2\n",
      "Downloading 27 of 48 images from page 2\n",
      "Downloading 28 of 48 images from page 2\n",
      "Downloading 29 of 48 images from page 2\n",
      "Downloading 30 of 48 images from page 2\n",
      "Downloading 31 of 48 images from page 2\n",
      "Downloading 32 of 48 images from page 2\n",
      "Downloading 33 of 48 images from page 2\n",
      "Downloading 34 of 48 images from page 2\n",
      "Downloading 35 of 48 images from page 2\n",
      "Downloading 36 of 48 images from page 2\n",
      "Downloading 37 of 48 images from page 2\n",
      "Downloading 38 of 48 images from page 2\n",
      "Downloading 39 of 48 images from page 2\n",
      "Downloading 40 of 48 images from page 2\n",
      "Downloading 41 of 48 images from page 2\n",
      "Downloading 42 of 48 images from page 2\n",
      "Downloading 43 of 48 images from page 2\n",
      "Downloading 44 of 48 images from page 2\n",
      "Downloading 45 of 48 images from page 2\n",
      "Downloading 46 of 48 images from page 2\n",
      "Downloading 47 of 48 images from page 2\n",
      "Downloading 48 of 48 images from page 2\n"
     ]
    }
   ],
   "source": [
    "page=2\n",
    "for index, link in enumerate(urls):\n",
    "    print(\"Downloading {0} of {1} images from page 2\".format(index+1,len(urls)))\n",
    "    response=requests.get(link)\n",
    "    with open('saree_women/img_{0}{1}.jpeg'.format(index,page),\"wb\")as file:\n",
    "        file.write(response.content)"
   ]
  },
  {
   "cell_type": "code",
   "execution_count": 118,
   "metadata": {},
   "outputs": [],
   "source": [
    "next_page=driver.find_element_by_xpath(\"//li[@class='a-last']//a\").click()"
   ]
  },
  {
   "cell_type": "code",
   "execution_count": 119,
   "metadata": {},
   "outputs": [
    {
     "name": "stdout",
     "output_type": "stream",
     "text": [
      "48\n"
     ]
    }
   ],
   "source": [
    "images=driver.find_elements_by_xpath(\"//img[@class='s-image']\")\n",
    "print(len(images))"
   ]
  },
  {
   "cell_type": "code",
   "execution_count": 120,
   "metadata": {},
   "outputs": [
    {
     "name": "stdout",
     "output_type": "stream",
     "text": [
      "https://m.media-amazon.com/images/I/71z-gJ9fUrL._AC_UL320_.jpg\n",
      "https://m.media-amazon.com/images/I/71Li3e8orvL._AC_UL320_.jpg\n",
      "https://m.media-amazon.com/images/I/71-C-idNnDL._AC_UL320_.jpg\n",
      "https://m.media-amazon.com/images/I/71bGg95ixiL._AC_UL320_.jpg\n",
      "https://m.media-amazon.com/images/I/613nojSF4XL._AC_UL320_.jpg\n",
      "https://m.media-amazon.com/images/I/61qhBNreTpL._AC_UL320_.jpg\n",
      "https://m.media-amazon.com/images/I/71Eg130EM2L._AC_UL320_.jpg\n",
      "https://m.media-amazon.com/images/I/71fZkvCZMcL._AC_UL320_.jpg\n",
      "https://m.media-amazon.com/images/I/81MMk62rzoL._AC_UL320_.jpg\n",
      "https://m.media-amazon.com/images/I/71bQwp9qZ7L._AC_UL320_.jpg\n",
      "https://m.media-amazon.com/images/I/81PtCGJIbaL._AC_UL320_.jpg\n",
      "https://m.media-amazon.com/images/I/61FmxkNscoL._AC_UL320_.jpg\n",
      "https://m.media-amazon.com/images/I/71090J0zLOL._AC_UL320_.jpg\n",
      "https://m.media-amazon.com/images/I/618cYYm-U3L._AC_UL320_.jpg\n",
      "https://m.media-amazon.com/images/I/712RF+ckwBL._AC_UL320_.jpg\n",
      "https://m.media-amazon.com/images/I/71Oafd7tAUL._AC_UL320_.jpg\n",
      "https://m.media-amazon.com/images/I/61GYGT3EVKL._AC_UL320_.jpg\n",
      "https://m.media-amazon.com/images/I/717ptfOustL._AC_UL320_.jpg\n",
      "https://m.media-amazon.com/images/I/71icBcMIWnL._AC_UL320_.jpg\n",
      "https://m.media-amazon.com/images/I/81gFyg5F8tL._AC_UL320_.jpg\n",
      "https://m.media-amazon.com/images/I/81IhOEnD7-L._AC_UL320_.jpg\n",
      "https://m.media-amazon.com/images/I/91VCrq1nfwL._AC_UL320_.jpg\n",
      "https://m.media-amazon.com/images/I/713dwytLoSL._AC_UL320_.jpg\n",
      "https://m.media-amazon.com/images/I/81FGMfZxrrL._AC_UL320_.jpg\n",
      "https://m.media-amazon.com/images/I/81i00KCxM3L._AC_UL320_.jpg\n",
      "https://m.media-amazon.com/images/I/61zYwPdoNNL._AC_UL320_.jpg\n",
      "https://m.media-amazon.com/images/I/81EDoGy3L+L._AC_UL320_.jpg\n",
      "https://m.media-amazon.com/images/I/71W95dfujOL._AC_UL320_.jpg\n",
      "https://m.media-amazon.com/images/I/81obPyuZpzL._AC_UL320_.jpg\n",
      "https://m.media-amazon.com/images/I/71wZJJVoRkL._AC_UL320_.jpg\n",
      "https://m.media-amazon.com/images/I/61ch4xwTg+L._AC_UL320_.jpg\n",
      "https://m.media-amazon.com/images/I/71IHYOQx64L._AC_UL320_.jpg\n",
      "https://m.media-amazon.com/images/I/71zvCAY0fkL._AC_UL320_.jpg\n",
      "https://m.media-amazon.com/images/I/81UiN8pmNyL._AC_UL320_.jpg\n",
      "https://m.media-amazon.com/images/I/71OffXebLKL._AC_UL320_.jpg\n",
      "https://m.media-amazon.com/images/I/71pVzY5SXcL._AC_UL320_.jpg\n",
      "https://m.media-amazon.com/images/I/719QUrx4XNL._AC_UL320_.jpg\n",
      "https://m.media-amazon.com/images/I/71OUPU+5JtL._AC_UL320_.jpg\n",
      "https://m.media-amazon.com/images/I/71ttWXSGHAL._AC_UL320_.jpg\n",
      "https://m.media-amazon.com/images/I/61ENkLORIqL._AC_UL320_.jpg\n",
      "https://m.media-amazon.com/images/I/619bN4MrxeL._AC_UL320_.jpg\n",
      "https://m.media-amazon.com/images/I/71p6pfGoL3L._AC_UL320_.jpg\n",
      "https://m.media-amazon.com/images/I/61MfgHSu7jL._AC_UL320_.jpg\n",
      "https://m.media-amazon.com/images/I/71UGe+q3RkL._AC_UL320_.jpg\n",
      "https://m.media-amazon.com/images/I/611iSltaTCL._AC_UL320_.jpg\n",
      "https://m.media-amazon.com/images/I/616DOQt3s1L._AC_UL320_.jpg\n",
      "https://m.media-amazon.com/images/I/71qxpOKS7YL._AC_UL320_.jpg\n",
      "https://m.media-amazon.com/images/I/61RtGEkENfL._AC_UL320_.jpg\n"
     ]
    }
   ],
   "source": [
    "urls= []\n",
    "for image in images:\n",
    "    source= image.get_attribute('src')\n",
    "    urls.append(source)\n",
    "    print(source)"
   ]
  },
  {
   "cell_type": "code",
   "execution_count": 121,
   "metadata": {},
   "outputs": [
    {
     "name": "stdout",
     "output_type": "stream",
     "text": [
      "Downloading 1 of 48 images from page 3\n",
      "Downloading 2 of 48 images from page 3\n",
      "Downloading 3 of 48 images from page 3\n",
      "Downloading 4 of 48 images from page 3\n",
      "Downloading 5 of 48 images from page 3\n",
      "Downloading 6 of 48 images from page 3\n",
      "Downloading 7 of 48 images from page 3\n",
      "Downloading 8 of 48 images from page 3\n",
      "Downloading 9 of 48 images from page 3\n",
      "Downloading 10 of 48 images from page 3\n",
      "Downloading 11 of 48 images from page 3\n",
      "Downloading 12 of 48 images from page 3\n",
      "Downloading 13 of 48 images from page 3\n",
      "Downloading 14 of 48 images from page 3\n",
      "Downloading 15 of 48 images from page 3\n",
      "Downloading 16 of 48 images from page 3\n",
      "Downloading 17 of 48 images from page 3\n",
      "Downloading 18 of 48 images from page 3\n",
      "Downloading 19 of 48 images from page 3\n",
      "Downloading 20 of 48 images from page 3\n",
      "Downloading 21 of 48 images from page 3\n",
      "Downloading 22 of 48 images from page 3\n",
      "Downloading 23 of 48 images from page 3\n",
      "Downloading 24 of 48 images from page 3\n",
      "Downloading 25 of 48 images from page 3\n",
      "Downloading 26 of 48 images from page 3\n",
      "Downloading 27 of 48 images from page 3\n",
      "Downloading 28 of 48 images from page 3\n",
      "Downloading 29 of 48 images from page 3\n",
      "Downloading 30 of 48 images from page 3\n",
      "Downloading 31 of 48 images from page 3\n",
      "Downloading 32 of 48 images from page 3\n",
      "Downloading 33 of 48 images from page 3\n",
      "Downloading 34 of 48 images from page 3\n",
      "Downloading 35 of 48 images from page 3\n",
      "Downloading 36 of 48 images from page 3\n",
      "Downloading 37 of 48 images from page 3\n",
      "Downloading 38 of 48 images from page 3\n",
      "Downloading 39 of 48 images from page 3\n",
      "Downloading 40 of 48 images from page 3\n",
      "Downloading 41 of 48 images from page 3\n",
      "Downloading 42 of 48 images from page 3\n",
      "Downloading 43 of 48 images from page 3\n",
      "Downloading 44 of 48 images from page 3\n",
      "Downloading 45 of 48 images from page 3\n",
      "Downloading 46 of 48 images from page 3\n",
      "Downloading 47 of 48 images from page 3\n",
      "Downloading 48 of 48 images from page 3\n"
     ]
    }
   ],
   "source": [
    "page=3\n",
    "for index, link in enumerate(urls):\n",
    "    print(\"Downloading {0} of {1} images from page 3\".format(index+1,len(urls)))\n",
    "    response=requests.get(link)\n",
    "    with open('saree_women/img_{0}{1}.jpeg'.format(index,page),\"wb\")as file:\n",
    "        file.write(response.content)"
   ]
  },
  {
   "cell_type": "code",
   "execution_count": 122,
   "metadata": {},
   "outputs": [],
   "source": [
    "next_page=driver.find_element_by_xpath(\"//li[@class='a-last']//a\").click()"
   ]
  },
  {
   "cell_type": "code",
   "execution_count": 123,
   "metadata": {},
   "outputs": [
    {
     "name": "stdout",
     "output_type": "stream",
     "text": [
      "48\n"
     ]
    }
   ],
   "source": [
    "images=driver.find_elements_by_xpath(\"//img[@class='s-image']\")\n",
    "print(len(images))"
   ]
  },
  {
   "cell_type": "code",
   "execution_count": 124,
   "metadata": {},
   "outputs": [
    {
     "name": "stdout",
     "output_type": "stream",
     "text": [
      "https://m.media-amazon.com/images/I/71ulxbor59L._AC_UL320_.jpg\n",
      "https://m.media-amazon.com/images/I/61tTlg3BD2L._AC_UL320_.jpg\n",
      "https://m.media-amazon.com/images/I/71jsfpsnwCL._AC_UL320_.jpg\n",
      "https://m.media-amazon.com/images/I/71U+uhbTgYL._AC_UL320_.jpg\n",
      "https://m.media-amazon.com/images/I/71cS5FS8JoL._AC_UL320_.jpg\n",
      "https://m.media-amazon.com/images/I/614PGeqcNYL._AC_UL320_.jpg\n",
      "https://m.media-amazon.com/images/I/71axfDWZ6NL._AC_UL320_.jpg\n",
      "https://m.media-amazon.com/images/I/615jbATSzdL._AC_UL320_.jpg\n",
      "https://m.media-amazon.com/images/I/91sqOPyUpnL._AC_UL320_.jpg\n",
      "https://m.media-amazon.com/images/I/81gHR9KUU9L._AC_UL320_.jpg\n",
      "https://m.media-amazon.com/images/I/81-4BYqISML._AC_UL320_.jpg\n",
      "https://m.media-amazon.com/images/I/81Lc4+Zff5L._AC_UL320_.jpg\n",
      "https://m.media-amazon.com/images/I/91A05iri1OL._AC_UL320_.jpg\n",
      "https://m.media-amazon.com/images/I/71Bl5NRAkXL._AC_UL320_.jpg\n",
      "https://m.media-amazon.com/images/I/71--xzRUIFL._AC_UL320_.jpg\n",
      "https://m.media-amazon.com/images/I/710ZL8xJCEL._AC_UL320_.jpg\n",
      "https://m.media-amazon.com/images/I/71yT+mnb8bL._AC_UL320_.jpg\n",
      "https://m.media-amazon.com/images/I/71AC915rcSL._AC_UL320_.jpg\n",
      "https://m.media-amazon.com/images/I/71nnLYIm38L._AC_UL320_.jpg\n",
      "https://m.media-amazon.com/images/I/71GA8h-MyML._AC_UL320_.jpg\n",
      "https://m.media-amazon.com/images/I/71dhBIl+93L._AC_UL320_.jpg\n",
      "https://m.media-amazon.com/images/I/71BCAfdgtTL._AC_UL320_.jpg\n",
      "https://m.media-amazon.com/images/I/71fNYx+uldL._AC_UL320_.jpg\n",
      "https://m.media-amazon.com/images/I/81ugaf1oVeL._AC_UL320_.jpg\n",
      "https://m.media-amazon.com/images/I/714PuzGtZKL._AC_UL320_.jpg\n",
      "https://m.media-amazon.com/images/I/71-W3cVZIWL._AC_UL320_.jpg\n",
      "https://m.media-amazon.com/images/I/71pUoxI0HkL._AC_UL320_.jpg\n",
      "https://m.media-amazon.com/images/I/71juGZSdwkL._AC_UL320_.jpg\n",
      "https://m.media-amazon.com/images/I/71es5RkbeUL._AC_UL320_.jpg\n",
      "https://m.media-amazon.com/images/I/71HflDY9QYL._AC_UL320_.jpg\n",
      "https://m.media-amazon.com/images/I/71JKx2I0XtL._AC_UL320_.jpg\n",
      "https://m.media-amazon.com/images/I/7111Vovs74L._AC_UL320_.jpg\n",
      "https://m.media-amazon.com/images/I/61uz0Wc4fbL._AC_UL320_.jpg\n",
      "https://m.media-amazon.com/images/I/71+ofPwXrGL._AC_UL320_.jpg\n",
      "https://m.media-amazon.com/images/I/71RdhCikX4L._AC_UL320_.jpg\n",
      "https://m.media-amazon.com/images/I/71UJ2mtHG1L._AC_UL320_.jpg\n",
      "https://m.media-amazon.com/images/I/71WF9Uwb3fL._AC_UL320_.jpg\n",
      "https://m.media-amazon.com/images/I/71c16hL2sML._AC_UL320_.jpg\n",
      "https://m.media-amazon.com/images/I/71X+nv09ROL._AC_UL320_.jpg\n",
      "https://m.media-amazon.com/images/I/71+exVTeGEL._AC_UL320_.jpg\n",
      "https://m.media-amazon.com/images/I/71UmhjqZ6NL._AC_UL320_.jpg\n",
      "https://m.media-amazon.com/images/I/71IYc7pxRWL._AC_UL320_.jpg\n",
      "https://m.media-amazon.com/images/I/71Hg5JgZhrL._AC_UL320_.jpg\n",
      "https://m.media-amazon.com/images/I/71wz67oTyeL._AC_UL320_.jpg\n",
      "https://m.media-amazon.com/images/I/71fq6gIwXyL._AC_UL320_.jpg\n",
      "https://m.media-amazon.com/images/I/71qjQmtE7KL._AC_UL320_.jpg\n",
      "https://m.media-amazon.com/images/I/71HBOl4pboL._AC_UL320_.jpg\n",
      "https://m.media-amazon.com/images/I/713RwHRv-bL._AC_UL320_.jpg\n"
     ]
    }
   ],
   "source": [
    "urls= []\n",
    "for image in images:\n",
    "    source= image.get_attribute('src')\n",
    "    urls.append(source)\n",
    "    print(source)"
   ]
  },
  {
   "cell_type": "code",
   "execution_count": 125,
   "metadata": {},
   "outputs": [
    {
     "name": "stdout",
     "output_type": "stream",
     "text": [
      "Downloading 1 of 48 images from page 4\n",
      "Downloading 2 of 48 images from page 4\n",
      "Downloading 3 of 48 images from page 4\n",
      "Downloading 4 of 48 images from page 4\n",
      "Downloading 5 of 48 images from page 4\n",
      "Downloading 6 of 48 images from page 4\n",
      "Downloading 7 of 48 images from page 4\n",
      "Downloading 8 of 48 images from page 4\n",
      "Downloading 9 of 48 images from page 4\n",
      "Downloading 10 of 48 images from page 4\n",
      "Downloading 11 of 48 images from page 4\n",
      "Downloading 12 of 48 images from page 4\n",
      "Downloading 13 of 48 images from page 4\n",
      "Downloading 14 of 48 images from page 4\n",
      "Downloading 15 of 48 images from page 4\n",
      "Downloading 16 of 48 images from page 4\n",
      "Downloading 17 of 48 images from page 4\n",
      "Downloading 18 of 48 images from page 4\n",
      "Downloading 19 of 48 images from page 4\n",
      "Downloading 20 of 48 images from page 4\n",
      "Downloading 21 of 48 images from page 4\n",
      "Downloading 22 of 48 images from page 4\n",
      "Downloading 23 of 48 images from page 4\n",
      "Downloading 24 of 48 images from page 4\n",
      "Downloading 25 of 48 images from page 4\n",
      "Downloading 26 of 48 images from page 4\n",
      "Downloading 27 of 48 images from page 4\n",
      "Downloading 28 of 48 images from page 4\n",
      "Downloading 29 of 48 images from page 4\n",
      "Downloading 30 of 48 images from page 4\n",
      "Downloading 31 of 48 images from page 4\n",
      "Downloading 32 of 48 images from page 4\n",
      "Downloading 33 of 48 images from page 4\n",
      "Downloading 34 of 48 images from page 4\n",
      "Downloading 35 of 48 images from page 4\n",
      "Downloading 36 of 48 images from page 4\n",
      "Downloading 37 of 48 images from page 4\n",
      "Downloading 38 of 48 images from page 4\n",
      "Downloading 39 of 48 images from page 4\n",
      "Downloading 40 of 48 images from page 4\n",
      "Downloading 41 of 48 images from page 4\n",
      "Downloading 42 of 48 images from page 4\n",
      "Downloading 43 of 48 images from page 4\n",
      "Downloading 44 of 48 images from page 4\n",
      "Downloading 45 of 48 images from page 4\n",
      "Downloading 46 of 48 images from page 4\n",
      "Downloading 47 of 48 images from page 4\n",
      "Downloading 48 of 48 images from page 4\n"
     ]
    }
   ],
   "source": [
    "page=4\n",
    "for index, link in enumerate(urls):\n",
    "    print(\"Downloading {0} of {1} images from page 4\".format(index+1,len(urls)))\n",
    "    response=requests.get(link)\n",
    "    with open('saree_women/img_{0}{1}.jpeg'.format(index,page),\"wb\")as file:\n",
    "        file.write(response.content)"
   ]
  },
  {
   "cell_type": "code",
   "execution_count": 126,
   "metadata": {},
   "outputs": [],
   "source": [
    "next_page=driver.find_element_by_xpath(\"//li[@class='a-last']//a\").click()"
   ]
  },
  {
   "cell_type": "code",
   "execution_count": 127,
   "metadata": {},
   "outputs": [
    {
     "name": "stdout",
     "output_type": "stream",
     "text": [
      "48\n"
     ]
    }
   ],
   "source": [
    "images=driver.find_elements_by_xpath(\"//img[@class='s-image']\")\n",
    "print(len(images))"
   ]
  },
  {
   "cell_type": "code",
   "execution_count": 128,
   "metadata": {},
   "outputs": [
    {
     "name": "stdout",
     "output_type": "stream",
     "text": [
      "https://m.media-amazon.com/images/I/71LFA9a+VKL._AC_UL320_.jpg\n",
      "https://m.media-amazon.com/images/I/71a2pepvNaL._AC_UL320_.jpg\n",
      "https://m.media-amazon.com/images/I/71lvOGAKeAL._AC_UL320_.jpg\n",
      "https://m.media-amazon.com/images/I/71rfE6UdwkL._AC_UL320_.jpg\n",
      "https://m.media-amazon.com/images/I/71PEap9bz7L._AC_UL320_.jpg\n",
      "https://m.media-amazon.com/images/I/71gSvjAOT6L._AC_UL320_.jpg\n",
      "https://m.media-amazon.com/images/I/71rXMgH6cPL._AC_UL320_.jpg\n",
      "https://m.media-amazon.com/images/I/71HDhImTcNL._AC_UL320_.jpg\n",
      "https://m.media-amazon.com/images/I/71lsziXpdSL._AC_UL320_.jpg\n",
      "https://m.media-amazon.com/images/I/71PDTjuWjpL._AC_UL320_.jpg\n",
      "https://m.media-amazon.com/images/I/819aY28-OeL._AC_UL320_.jpg\n",
      "https://m.media-amazon.com/images/I/71ZUUh8d-eL._AC_UL320_.jpg\n",
      "https://m.media-amazon.com/images/I/71tPdLiUfyL._AC_UL320_.jpg\n",
      "https://m.media-amazon.com/images/I/71pRCqByhRL._AC_UL320_.jpg\n",
      "https://m.media-amazon.com/images/I/71ojryQhh5L._AC_UL320_.jpg\n",
      "https://m.media-amazon.com/images/I/81MNQy8cFvL._AC_UL320_.jpg\n",
      "https://m.media-amazon.com/images/I/71Mj09BpfYL._AC_UL320_.jpg\n",
      "https://m.media-amazon.com/images/I/71oUIyAYIvL._AC_UL320_.jpg\n",
      "https://m.media-amazon.com/images/I/71XkISbhxmL._AC_UL320_.jpg\n",
      "https://m.media-amazon.com/images/I/71D0PO17JBL._AC_UL320_.jpg\n",
      "https://m.media-amazon.com/images/I/715LJs6WFqL._AC_UL320_.jpg\n",
      "https://m.media-amazon.com/images/I/71Hoxki0j7L._AC_UL320_.jpg\n",
      "https://m.media-amazon.com/images/I/71c+QvLDX9L._AC_UL320_.jpg\n",
      "https://m.media-amazon.com/images/I/71ELmcRsuuL._AC_UL320_.jpg\n",
      "https://m.media-amazon.com/images/I/71NXEE-GY1L._AC_UL320_.jpg\n",
      "https://m.media-amazon.com/images/I/71M+qo6abyL._AC_UL320_.jpg\n",
      "https://m.media-amazon.com/images/I/71OJORwtcOL._AC_UL320_.jpg\n",
      "https://m.media-amazon.com/images/I/81kod+x7E5L._AC_UL320_.jpg\n",
      "https://m.media-amazon.com/images/I/71HQCNcLaZL._AC_UL320_.jpg\n",
      "https://m.media-amazon.com/images/I/71sdpGljeYL._AC_UL320_.jpg\n",
      "https://m.media-amazon.com/images/I/71TyW2eyjDL._AC_UL320_.jpg\n",
      "https://m.media-amazon.com/images/I/7118xLrgvDL._AC_UL320_.jpg\n",
      "https://m.media-amazon.com/images/I/71n2RIn4hZL._AC_UL320_.jpg\n",
      "https://m.media-amazon.com/images/I/71ggqygz16L._AC_UL320_.jpg\n",
      "https://m.media-amazon.com/images/I/71Zw84sZfHL._AC_UL320_.jpg\n",
      "https://m.media-amazon.com/images/I/81goNQvkjFL._AC_UL320_.jpg\n",
      "https://m.media-amazon.com/images/I/71UA9Bk4jaL._AC_UL320_.jpg\n",
      "https://m.media-amazon.com/images/I/71xyIugWRFL._AC_UL320_.jpg\n",
      "https://m.media-amazon.com/images/I/712LCPxlA7L._AC_UL320_.jpg\n",
      "https://m.media-amazon.com/images/I/71LFX2KuRdL._AC_UL320_.jpg\n",
      "https://m.media-amazon.com/images/I/71AYgt9l5yL._AC_UL320_.jpg\n",
      "https://m.media-amazon.com/images/I/71-+9O5tvfL._AC_UL320_.jpg\n",
      "https://m.media-amazon.com/images/I/71zSZ0EmSEL._AC_UL320_.jpg\n",
      "https://m.media-amazon.com/images/I/71pRh94oiSL._AC_UL320_.jpg\n",
      "https://m.media-amazon.com/images/I/71RqeCKiy6L._AC_UL320_.jpg\n",
      "https://m.media-amazon.com/images/I/71dYHXgMZyL._AC_UL320_.jpg\n",
      "https://m.media-amazon.com/images/I/71YC4m8aA5L._AC_UL320_.jpg\n",
      "https://m.media-amazon.com/images/I/718-n0XN0-L._AC_UL320_.jpg\n"
     ]
    }
   ],
   "source": [
    "urls= []\n",
    "for image in images:\n",
    "    source= image.get_attribute('src')\n",
    "    urls.append(source)\n",
    "    print(source)"
   ]
  },
  {
   "cell_type": "code",
   "execution_count": 129,
   "metadata": {},
   "outputs": [
    {
     "name": "stdout",
     "output_type": "stream",
     "text": [
      "Downloading 1 of 48 images from page 5\n",
      "Downloading 2 of 48 images from page 5\n",
      "Downloading 3 of 48 images from page 5\n",
      "Downloading 4 of 48 images from page 5\n",
      "Downloading 5 of 48 images from page 5\n",
      "Downloading 6 of 48 images from page 5\n",
      "Downloading 7 of 48 images from page 5\n",
      "Downloading 8 of 48 images from page 5\n",
      "Downloading 9 of 48 images from page 5\n",
      "Downloading 10 of 48 images from page 5\n",
      "Downloading 11 of 48 images from page 5\n",
      "Downloading 12 of 48 images from page 5\n",
      "Downloading 13 of 48 images from page 5\n",
      "Downloading 14 of 48 images from page 5\n",
      "Downloading 15 of 48 images from page 5\n",
      "Downloading 16 of 48 images from page 5\n",
      "Downloading 17 of 48 images from page 5\n",
      "Downloading 18 of 48 images from page 5\n",
      "Downloading 19 of 48 images from page 5\n",
      "Downloading 20 of 48 images from page 5\n",
      "Downloading 21 of 48 images from page 5\n",
      "Downloading 22 of 48 images from page 5\n",
      "Downloading 23 of 48 images from page 5\n",
      "Downloading 24 of 48 images from page 5\n",
      "Downloading 25 of 48 images from page 5\n",
      "Downloading 26 of 48 images from page 5\n",
      "Downloading 27 of 48 images from page 5\n",
      "Downloading 28 of 48 images from page 5\n",
      "Downloading 29 of 48 images from page 5\n",
      "Downloading 30 of 48 images from page 5\n",
      "Downloading 31 of 48 images from page 5\n",
      "Downloading 32 of 48 images from page 5\n",
      "Downloading 33 of 48 images from page 5\n",
      "Downloading 34 of 48 images from page 5\n",
      "Downloading 35 of 48 images from page 5\n",
      "Downloading 36 of 48 images from page 5\n",
      "Downloading 37 of 48 images from page 5\n",
      "Downloading 38 of 48 images from page 5\n",
      "Downloading 39 of 48 images from page 5\n",
      "Downloading 40 of 48 images from page 5\n",
      "Downloading 41 of 48 images from page 5\n",
      "Downloading 42 of 48 images from page 5\n",
      "Downloading 43 of 48 images from page 5\n",
      "Downloading 44 of 48 images from page 5\n",
      "Downloading 45 of 48 images from page 5\n",
      "Downloading 46 of 48 images from page 5\n",
      "Downloading 47 of 48 images from page 5\n",
      "Downloading 48 of 48 images from page 5\n"
     ]
    }
   ],
   "source": [
    "page=5\n",
    "for index, link in enumerate(urls):\n",
    "    print(\"Downloading {0} of {1} images from page 5\".format(index+1,len(urls)))\n",
    "    response=requests.get(link)\n",
    "    with open('saree_women/img_{0}{1}.jpeg'.format(index,page),\"wb\")as file:\n",
    "        file.write(response.content)"
   ]
  },
  {
   "cell_type": "code",
   "execution_count": null,
   "metadata": {},
   "outputs": [],
   "source": []
  }
 ],
 "metadata": {
  "kernelspec": {
   "display_name": "Python 3",
   "language": "python",
   "name": "python3"
  },
  "language_info": {
   "codemirror_mode": {
    "name": "ipython",
    "version": 3
   },
   "file_extension": ".py",
   "mimetype": "text/x-python",
   "name": "python",
   "nbconvert_exporter": "python",
   "pygments_lexer": "ipython3",
   "version": "3.8.3"
  }
 },
 "nbformat": 4,
 "nbformat_minor": 4
}
